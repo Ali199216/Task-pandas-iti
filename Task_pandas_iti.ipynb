{
  "nbformat": 4,
  "nbformat_minor": 0,
  "metadata": {
    "colab": {
      "provenance": [],
      "include_colab_link": true
    },
    "kernelspec": {
      "name": "python3",
      "display_name": "Python 3"
    },
    "language_info": {
      "name": "python"
    }
  },
  "cells": [
    {
      "cell_type": "markdown",
      "metadata": {
        "id": "view-in-github",
        "colab_type": "text"
      },
      "source": [
        "<a href=\"https://colab.research.google.com/github/Ali199216/Task-pandas-iti/blob/main/Task_pandas_iti.ipynb\" target=\"_parent\"><img src=\"https://colab.research.google.com/assets/colab-badge.svg\" alt=\"Open In Colab\"/></a>"
      ]
    },
    {
      "cell_type": "code",
      "execution_count": 3,
      "metadata": {
        "colab": {
          "base_uri": "https://localhost:8080/"
        },
        "id": "dzjBhqG3nybE",
        "outputId": "7e3898b7-13bb-4841-c117-cd18d8c79959"
      },
      "outputs": [
        {
          "output_type": "stream",
          "name": "stdout",
          "text": [
            "   OrderID CustomerID Product  Quantity  UnitPrice  Total        Date\n",
            "0     1001    CUST009  Laptop         3        539   1617  2023-06-15\n",
            "1     1002    CUST007   Phone         1       1530   1530  2023-01-08\n",
            "2     1003    CUST006  Tablet         5       1225   6125  2023-07-09\n",
            "3     1004    CUST011  Laptop         1       1557   1557  2023-04-12\n",
            "4     1005    CUST003  Tablet         5        783   3915  2023-02-09\n"
          ]
        }
      ],
      "source": [
        "# Ali Sayed Mahmoud\n",
        "import pandas as pd\n",
        "df_data = pd.read_csv('/content/Purchase_Data.csv')\n",
        "print(df_data.head())"
      ]
    },
    {
      "cell_type": "code",
      "source": [
        "# Ali Sayed Mahmoud\n",
        "import pandas as pd\n",
        "df_data = pd.read_csv('Purchase_Data.csv')\n",
        "print(df_data.dtypes)"
      ],
      "metadata": {
        "colab": {
          "base_uri": "https://localhost:8080/"
        },
        "id": "jjB5oeubqTGH",
        "outputId": "8924e12e-fcf0-4fd1-855d-0e24192e6f1f"
      },
      "execution_count": 4,
      "outputs": [
        {
          "output_type": "stream",
          "name": "stdout",
          "text": [
            "OrderID        int64\n",
            "CustomerID    object\n",
            "Product       object\n",
            "Quantity       int64\n",
            "UnitPrice      int64\n",
            "Total          int64\n",
            "Date          object\n",
            "dtype: object\n"
          ]
        }
      ]
    },
    {
      "cell_type": "code",
      "source": [
        "# Ali Sayed Mahmoud\n",
        "import pandas as pd\n",
        "df_data = pd.read_csv('Purchase_Data.csv')\n",
        "result_1 = df_data.loc[:, df_data.columns[:2]]\n",
        "print(result_1.head())"
      ],
      "metadata": {
        "colab": {
          "base_uri": "https://localhost:8080/"
        },
        "id": "6oTF3cRwqkWW",
        "outputId": "05814ae4-af07-4124-fb95-09919018c4bf"
      },
      "execution_count": 5,
      "outputs": [
        {
          "output_type": "stream",
          "name": "stdout",
          "text": [
            "   OrderID CustomerID\n",
            "0     1001    CUST009\n",
            "1     1002    CUST007\n",
            "2     1003    CUST006\n",
            "3     1004    CUST011\n",
            "4     1005    CUST003\n"
          ]
        }
      ]
    },
    {
      "cell_type": "code",
      "source": [
        "# Ali Sayed Mahmoud\n",
        "import pandas as pd\n",
        "df_data = pd.read_csv('Purchase_Data.csv')\n",
        "result_2 = df_data.loc[:1, :]\n",
        "print(result_2)"
      ],
      "metadata": {
        "colab": {
          "base_uri": "https://localhost:8080/"
        },
        "id": "MTyE8CaAqmTT",
        "outputId": "c6711f23-0ca3-422c-a997-d3c59411af0b"
      },
      "execution_count": 6,
      "outputs": [
        {
          "output_type": "stream",
          "name": "stdout",
          "text": [
            "   OrderID CustomerID Product  Quantity  UnitPrice  Total        Date\n",
            "0     1001    CUST009  Laptop         3        539   1617  2023-06-15\n",
            "1     1002    CUST007   Phone         1       1530   1530  2023-01-08\n"
          ]
        }
      ]
    },
    {
      "cell_type": "code",
      "source": [
        "# Ali Sayed Mahmoud\n",
        "import pandas as pd\n",
        "df_data = pd.read_csv('Purchase_Data.csv')\n",
        "result_3 = df_data.loc[:3, df_data.columns[:5]]\n",
        "print(result_3)"
      ],
      "metadata": {
        "colab": {
          "base_uri": "https://localhost:8080/"
        },
        "id": "6PIDFGZWqnPn",
        "outputId": "a87cac71-6ba9-42fd-d389-dc32f4de7b77"
      },
      "execution_count": 7,
      "outputs": [
        {
          "output_type": "stream",
          "name": "stdout",
          "text": [
            "   OrderID CustomerID Product  Quantity  UnitPrice\n",
            "0     1001    CUST009  Laptop         3        539\n",
            "1     1002    CUST007   Phone         1       1530\n",
            "2     1003    CUST006  Tablet         5       1225\n",
            "3     1004    CUST011  Laptop         1       1557\n"
          ]
        }
      ]
    },
    {
      "cell_type": "code",
      "source": [
        "#nada mohammed\n",
        "result_4 = df_data.loc[[0, 4, 6], [\"Product\", \"Date\", \"UnitPrice\"]]\n",
        "print(result_4)"
      ],
      "metadata": {
        "colab": {
          "base_uri": "https://localhost:8080/"
        },
        "id": "IQug1jX-s0kC",
        "outputId": "b9e269ba-127e-4302-d21d-cbdc195bd5a5"
      },
      "execution_count": 10,
      "outputs": [
        {
          "output_type": "stream",
          "name": "stdout",
          "text": [
            "      Product        Date  UnitPrice\n",
            "0      Laptop  2023-06-15        539\n",
            "4      Tablet  2023-02-09        783\n",
            "6  Headphones  2023-10-24       1544\n"
          ]
        }
      ]
    },
    {
      "cell_type": "code",
      "source": [
        "#nada mohammed\n",
        "num_rows = df_data.shape[0]"
      ],
      "metadata": {
        "id": "MWQTTy7ys0gf"
      },
      "execution_count": 11,
      "outputs": []
    },
    {
      "cell_type": "code",
      "source": [
        "# nada mohammed\n",
        "last_row = df_data.loc[num_rows - 1]\n",
        "print(last_row)"
      ],
      "metadata": {
        "colab": {
          "base_uri": "https://localhost:8080/"
        },
        "id": "pv7yOe63s0eJ",
        "outputId": "447f45de-b0ed-4b39-fd02-018db5ffbd06"
      },
      "execution_count": 12,
      "outputs": [
        {
          "output_type": "stream",
          "name": "stdout",
          "text": [
            "OrderID             1050\n",
            "CustomerID       CUST009\n",
            "Product       Headphones\n",
            "Quantity               3\n",
            "UnitPrice           1761\n",
            "Total               5283\n",
            "Date          2023-12-14\n",
            "Name: 49, dtype: object\n"
          ]
        }
      ]
    },
    {
      "cell_type": "code",
      "source": [
        "# nada mohammed\n",
        "avg_price = df_data[\"UnitPrice\"].mean()\n",
        "max_price = df_data[\"UnitPrice\"].max()\n",
        "print(f'The average unit price is {avg_price} and the maximum unit price is {max_price}')"
      ],
      "metadata": {
        "colab": {
          "base_uri": "https://localhost:8080/"
        },
        "id": "O6JuQ7qts0bU",
        "outputId": "024469a5-95a5-4603-ba7c-3ae715f8242e"
      },
      "execution_count": 14,
      "outputs": [
        {
          "output_type": "stream",
          "name": "stdout",
          "text": [
            "The average unit price is 1078.46 and the maximum unit price is 1972\n"
          ]
        }
      ]
    },
    {
      "cell_type": "code",
      "source": [
        "\n",
        "#nada mohammed\n",
        "avg_price, avg_num_items = df_data[[\"UnitPrice\", \"Quantity\"]].mean()\n",
        "print(f'The average unit price is {avg_price} and the average number of items is {avg_num_items}')"
      ],
      "metadata": {
        "id": "JUPSPRkNs0Y0",
        "colab": {
          "base_uri": "https://localhost:8080/"
        },
        "outputId": "5d1bcb7b-a469-458e-a7ec-b6befef2452a"
      },
      "execution_count": 15,
      "outputs": [
        {
          "output_type": "stream",
          "name": "stdout",
          "text": [
            "The average unit price is 1078.46 and the average number of items is 2.92\n"
          ]
        }
      ]
    },
    {
      "cell_type": "code",
      "source": [
        "\n",
        "import pandas as pd\n",
        "\n",
        "df_data = pd.read_csv(\"Purchase_Data.csv\")\n",
        "print(df_data.head())\n"
      ],
      "metadata": {
        "colab": {
          "base_uri": "https://localhost:8080/"
        },
        "id": "IR214FpB6ClH",
        "outputId": "6db8dfd2-19d1-44ea-9d12-bc4d3ccf1012"
      },
      "execution_count": null,
      "outputs": [
        {
          "output_type": "stream",
          "name": "stdout",
          "text": [
            "   invoice_number   invoice_time store_id  product_id  category_id  num_item  \\\n",
            "0    2.020000e+11  7/15/15 10:45     G816     7000300       210101       1.0   \n",
            "1    2.020000e+11  7/15/15 12:16     G816     7070884        70203       1.0   \n",
            "2    2.020000e+11  7/15/15 12:16     G816     7070884        70203       1.0   \n",
            "3    2.020000e+11  7/15/15 12:16     G816     7070891        70401       1.0   \n",
            "4    2.020000e+11  7/15/15 12:16     G816     7090363        70401       1.0   \n",
            "\n",
            "   price  \n",
            "0    2.0  \n",
            "1    2.0  \n",
            "2    2.0  \n",
            "3    6.0  \n",
            "4    6.0  \n"
          ]
        }
      ]
    },
    {
      "cell_type": "code",
      "source": [
        "#samar nashaat\n",
        "df_data[\"total\"] = df_data[\"price\"] * df_data[\"num_item\"]\n",
        "print(df_data.head())"
      ],
      "metadata": {
        "colab": {
          "base_uri": "https://localhost:8080/"
        },
        "id": "EHSz3Fyx63Ei",
        "outputId": "01f9269e-cb24-4cd3-f88d-d1b0ae899cc3"
      },
      "execution_count": null,
      "outputs": [
        {
          "output_type": "stream",
          "name": "stdout",
          "text": [
            "   invoice_number   invoice_time store_id  product_id  category_id  num_item  \\\n",
            "0    2.020000e+11  7/15/15 10:45     G816     7000300       210101       1.0   \n",
            "1    2.020000e+11  7/15/15 12:16     G816     7070884        70203       1.0   \n",
            "2    2.020000e+11  7/15/15 12:16     G816     7070884        70203       1.0   \n",
            "3    2.020000e+11  7/15/15 12:16     G816     7070891        70401       1.0   \n",
            "4    2.020000e+11  7/15/15 12:16     G816     7090363        70401       1.0   \n",
            "\n",
            "   price  total  \n",
            "0    2.0    2.0  \n",
            "1    2.0    2.0  \n",
            "2    2.0    2.0  \n",
            "3    6.0    6.0  \n",
            "4    6.0    6.0  \n"
          ]
        }
      ]
    },
    {
      "cell_type": "code",
      "source": [
        "#samar nashaat\n",
        "avg_top3_price = df_data.nlargest(3, \"total\")[\"total\"].mean()\n",
        "print(\"Average price of top 3 expensive purchases:\", avg_top3_price)"
      ],
      "metadata": {
        "colab": {
          "base_uri": "https://localhost:8080/"
        },
        "id": "sy0iglRX67qD",
        "outputId": "140de3e5-0a41-4302-f579-fcee5650741a"
      },
      "execution_count": null,
      "outputs": [
        {
          "output_type": "stream",
          "name": "stdout",
          "text": [
            "Average price of top 3 expensive purchases: 164.0\n"
          ]
        }
      ]
    },
    {
      "cell_type": "code",
      "source": [
        "#samar nashaat\n",
        "num_products = df_data[\"product_id\"].nunique()\n",
        "print(\"Number of different products:\", num_products)"
      ],
      "metadata": {
        "colab": {
          "base_uri": "https://localhost:8080/"
        },
        "id": "JpZ8qrvS6-3A",
        "outputId": "c3928dd2-69aa-4363-e987-db38c64ab0a8"
      },
      "execution_count": null,
      "outputs": [
        {
          "output_type": "stream",
          "name": "stdout",
          "text": [
            "Number of different products: 53\n"
          ]
        }
      ]
    },
    {
      "cell_type": "code",
      "source": [
        "#samar nashaat\n",
        "stats = df_data[\"total\"].describe()\n",
        "diff_mean_median = stats[\"mean\"] - stats[\"50%\"]\n",
        "print(\"Mean - Median of total:\", diff_mean_median)\n"
      ],
      "metadata": {
        "colab": {
          "base_uri": "https://localhost:8080/"
        },
        "id": "Rcr4DELh7MOm",
        "outputId": "10d2257c-63f2-4118-ab78-aa3b217d7359"
      },
      "execution_count": null,
      "outputs": [
        {
          "output_type": "stream",
          "name": "stdout",
          "text": [
            "Mean - Median of total: 0.9318078781127839\n"
          ]
        }
      ]
    },
    {
      "cell_type": "code",
      "source": [
        "#samar nashaat\n",
        "df_data = df_data.drop(columns=[\"total\"])\n",
        "print(df_data.head())\n"
      ],
      "metadata": {
        "colab": {
          "base_uri": "https://localhost:8080/"
        },
        "id": "TmgLqepQ7Sg4",
        "outputId": "c89c3566-b5a0-4993-b910-0355d4b665ed"
      },
      "execution_count": null,
      "outputs": [
        {
          "output_type": "stream",
          "name": "stdout",
          "text": [
            "   invoice_number   invoice_time store_id  product_id  category_id  num_item  \\\n",
            "0    2.020000e+11  7/15/15 10:45     G816     7000300       210101       1.0   \n",
            "1    2.020000e+11  7/15/15 12:16     G816     7070884        70203       1.0   \n",
            "2    2.020000e+11  7/15/15 12:16     G816     7070884        70203       1.0   \n",
            "3    2.020000e+11  7/15/15 12:16     G816     7070891        70401       1.0   \n",
            "4    2.020000e+11  7/15/15 12:16     G816     7090363        70401       1.0   \n",
            "\n",
            "   price  \n",
            "0    2.0  \n",
            "1    2.0  \n",
            "2    2.0  \n",
            "3    6.0  \n",
            "4    6.0  \n"
          ]
        }
      ]
    },
    {
      "cell_type": "code",
      "source": [
        "# from Taqwa\n",
        "import pandas as pd\n",
        "# Read the Titanic dataset\n",
        "df_titanic = pd.read_csv(\"Titanic.csv\")"
      ],
      "metadata": {
        "id": "dFpBi80H2vyX"
      },
      "execution_count": null,
      "outputs": []
    },
    {
      "cell_type": "code",
      "source": [
        "#from taqwa\n",
        "df_titanic = df_titanic.rename(columns={\n",
        "\"Name\" : \"Passenger_Name\" ,\n",
        "\"Ticket\" : \"Ticket_Num\",\n",
        "})\n",
        "print( df_titanic.head() )"
      ],
      "metadata": {
        "id": "wdJWypFA3JmJ",
        "outputId": "8273d455-4cca-42e2-a4a0-ac4b603e8ef3",
        "colab": {
          "base_uri": "https://localhost:8080/"
        }
      },
      "execution_count": null,
      "outputs": [
        {
          "output_type": "stream",
          "name": "stdout",
          "text": [
            "   PassengerId  Pclass                                Passenger_Name     Sex  \\\n",
            "0          892       3                              Kelly, Mr. James    male   \n",
            "1          893       3              Wilkes, Mrs. James (Ellen Needs)  female   \n",
            "2          894       2                     Myles, Mr. Thomas Francis    male   \n",
            "3          895       3                              Wirz, Mr. Albert    male   \n",
            "4          896       3  Hirvonen, Mrs. Alexander (Helga E Lindqvist)  female   \n",
            "\n",
            "    Age  SibSp  Parch Ticket_Num     Fare Cabin Embarked  \n",
            "0  34.5      0      0     330911   7.8292   NaN        Q  \n",
            "1  47.0      1      0     363272   7.0000   NaN        S  \n",
            "2  62.0      0      0     240276   9.6875   NaN        Q  \n",
            "3  27.0      0      0     315154   8.6625   NaN        S  \n",
            "4  22.0      1      1    3101298  12.2875   NaN        S  \n"
          ]
        }
      ]
    },
    {
      "cell_type": "code",
      "source": [
        "# from taqwa\n",
        "df_titanic = df_titanic.set_index(\"PassengerId\")\n",
        "print(df_titanic.head())"
      ],
      "metadata": {
        "id": "azVcPBr_3W6m",
        "outputId": "2f9ada1b-bd32-483d-b057-62bb012621c5",
        "colab": {
          "base_uri": "https://localhost:8080/"
        }
      },
      "execution_count": null,
      "outputs": [
        {
          "output_type": "stream",
          "name": "stdout",
          "text": [
            "             Pclass                                Passenger_Name     Sex  \\\n",
            "PassengerId                                                                 \n",
            "892               3                              Kelly, Mr. James    male   \n",
            "893               3              Wilkes, Mrs. James (Ellen Needs)  female   \n",
            "894               2                     Myles, Mr. Thomas Francis    male   \n",
            "895               3                              Wirz, Mr. Albert    male   \n",
            "896               3  Hirvonen, Mrs. Alexander (Helga E Lindqvist)  female   \n",
            "\n",
            "              Age  SibSp  Parch Ticket_Num     Fare Cabin Embarked  \n",
            "PassengerId                                                         \n",
            "892          34.5      0      0     330911   7.8292   NaN        Q  \n",
            "893          47.0      1      0     363272   7.0000   NaN        S  \n",
            "894          62.0      0      0     240276   9.6875   NaN        Q  \n",
            "895          27.0      0      0     315154   8.6625   NaN        S  \n",
            "896          22.0      1      1    3101298  12.2875   NaN        S  \n"
          ]
        }
      ]
    },
    {
      "cell_type": "code",
      "source": [
        "# from taqwa\n",
        "passenger_name = df_titanic.loc[896,\"Passenger_Name\"]\n",
        "print(passenger_name)"
      ],
      "metadata": {
        "id": "TE3CGlI_3g-7",
        "outputId": "8edea45f-c4b1-491c-e42c-3ea8482b0e4a",
        "colab": {
          "base_uri": "https://localhost:8080/"
        }
      },
      "execution_count": null,
      "outputs": [
        {
          "output_type": "stream",
          "name": "stdout",
          "text": [
            "Hirvonen, Mrs. Alexander (Helga E Lindqvist)\n"
          ]
        }
      ]
    },
    {
      "cell_type": "code",
      "source": [
        "#Abdelrahman Samir\n",
        "\n",
        "# Count the number of missing entries in the Age column\n",
        "missing_age_count = df_titanic['Age'].isnull().sum()\n",
        "\n",
        "print(f\"Number of missing entries in the Age column: {missing_age_count}\")"
      ],
      "metadata": {
        "colab": {
          "base_uri": "https://localhost:8080/"
        },
        "id": "90OP23zcc5k0",
        "outputId": "42525671-ec58-46ae-c315-1dc17e7fbee2"
      },
      "execution_count": null,
      "outputs": [
        {
          "output_type": "stream",
          "name": "stdout",
          "text": [
            "Number of missing entries in the Age column: 0\n"
          ]
        }
      ]
    },
    {
      "cell_type": "code",
      "source": [
        "#Abdelrahman Samir\n",
        "# Compute the average age ignoring missing data\n",
        "avg_age = df_titanic[\"Age\"].mean()\n",
        "print(\"Average age of passengers:\", avg_age)"
      ],
      "metadata": {
        "colab": {
          "base_uri": "https://localhost:8080/"
        },
        "id": "WOAcb3lqc7DA",
        "outputId": "5e2021ea-e0d0-4b1a-8daf-a9bea8afc229"
      },
      "execution_count": null,
      "outputs": [
        {
          "output_type": "stream",
          "name": "stdout",
          "text": [
            "Average age of passengers: 30.272590361445783\n"
          ]
        }
      ]
    },
    {
      "cell_type": "code",
      "source": [
        "#Abdelrahman Samir\n",
        "# Compute the mean of the Age column, ignoring missing values\n",
        "mean_age = df_titanic['Age'].mean()\n",
        "\n",
        "# Fill missing values in the Age column with the mean\n",
        "df_titanic['Age'] = df_titanic['Age'].fillna(mean_age)\n",
        "\n",
        "# Display the head to verify the changes (optional, but good practice)\n",
        "display(df_titanic.head())\n",
        "\n",
        "# You can also check if there are any remaining missing values in the Age column\n",
        "print(f\"\\nNumber of remaining missing values in Age column: {df_titanic['Age'].isnull().sum()}\")\n"
      ],
      "metadata": {
        "colab": {
          "base_uri": "https://localhost:8080/",
          "height": 241
        },
        "id": "VYy-ed-hc7UR",
        "outputId": "16be2881-465d-42ed-ce99-8f8cf18f8932"
      },
      "execution_count": null,
      "outputs": [
        {
          "output_type": "display_data",
          "data": {
            "text/plain": [
              "   PassengerId  Pclass                                Passenger_Name     Sex  \\\n",
              "0          892       3                              Kelly, Mr. James    male   \n",
              "1          893       3              Wilkes, Mrs. James (Ellen Needs)  female   \n",
              "2          894       2                     Myles, Mr. Thomas Francis    male   \n",
              "3          895       3                              Wirz, Mr. Albert    male   \n",
              "4          896       3  Hirvonen, Mrs. Alexander (Helga E Lindqvist)  female   \n",
              "\n",
              "    Age  SibSp  Parch Ticket_Num     Fare Cabin Embarked  \n",
              "0  34.5      0      0     330911   7.8292   NaN        Q  \n",
              "1  47.0      1      0     363272   7.0000   NaN        S  \n",
              "2  62.0      0      0     240276   9.6875   NaN        Q  \n",
              "3  27.0      0      0     315154   8.6625   NaN        S  \n",
              "4  22.0      1      1    3101298  12.2875   NaN        S  "
            ],
            "text/html": [
              "\n",
              "  <div id=\"df-72065efd-5955-40cd-b128-feccdeb21720\" class=\"colab-df-container\">\n",
              "    <div>\n",
              "<style scoped>\n",
              "    .dataframe tbody tr th:only-of-type {\n",
              "        vertical-align: middle;\n",
              "    }\n",
              "\n",
              "    .dataframe tbody tr th {\n",
              "        vertical-align: top;\n",
              "    }\n",
              "\n",
              "    .dataframe thead th {\n",
              "        text-align: right;\n",
              "    }\n",
              "</style>\n",
              "<table border=\"1\" class=\"dataframe\">\n",
              "  <thead>\n",
              "    <tr style=\"text-align: right;\">\n",
              "      <th></th>\n",
              "      <th>PassengerId</th>\n",
              "      <th>Pclass</th>\n",
              "      <th>Passenger_Name</th>\n",
              "      <th>Sex</th>\n",
              "      <th>Age</th>\n",
              "      <th>SibSp</th>\n",
              "      <th>Parch</th>\n",
              "      <th>Ticket_Num</th>\n",
              "      <th>Fare</th>\n",
              "      <th>Cabin</th>\n",
              "      <th>Embarked</th>\n",
              "    </tr>\n",
              "  </thead>\n",
              "  <tbody>\n",
              "    <tr>\n",
              "      <th>0</th>\n",
              "      <td>892</td>\n",
              "      <td>3</td>\n",
              "      <td>Kelly, Mr. James</td>\n",
              "      <td>male</td>\n",
              "      <td>34.5</td>\n",
              "      <td>0</td>\n",
              "      <td>0</td>\n",
              "      <td>330911</td>\n",
              "      <td>7.8292</td>\n",
              "      <td>NaN</td>\n",
              "      <td>Q</td>\n",
              "    </tr>\n",
              "    <tr>\n",
              "      <th>1</th>\n",
              "      <td>893</td>\n",
              "      <td>3</td>\n",
              "      <td>Wilkes, Mrs. James (Ellen Needs)</td>\n",
              "      <td>female</td>\n",
              "      <td>47.0</td>\n",
              "      <td>1</td>\n",
              "      <td>0</td>\n",
              "      <td>363272</td>\n",
              "      <td>7.0000</td>\n",
              "      <td>NaN</td>\n",
              "      <td>S</td>\n",
              "    </tr>\n",
              "    <tr>\n",
              "      <th>2</th>\n",
              "      <td>894</td>\n",
              "      <td>2</td>\n",
              "      <td>Myles, Mr. Thomas Francis</td>\n",
              "      <td>male</td>\n",
              "      <td>62.0</td>\n",
              "      <td>0</td>\n",
              "      <td>0</td>\n",
              "      <td>240276</td>\n",
              "      <td>9.6875</td>\n",
              "      <td>NaN</td>\n",
              "      <td>Q</td>\n",
              "    </tr>\n",
              "    <tr>\n",
              "      <th>3</th>\n",
              "      <td>895</td>\n",
              "      <td>3</td>\n",
              "      <td>Wirz, Mr. Albert</td>\n",
              "      <td>male</td>\n",
              "      <td>27.0</td>\n",
              "      <td>0</td>\n",
              "      <td>0</td>\n",
              "      <td>315154</td>\n",
              "      <td>8.6625</td>\n",
              "      <td>NaN</td>\n",
              "      <td>S</td>\n",
              "    </tr>\n",
              "    <tr>\n",
              "      <th>4</th>\n",
              "      <td>896</td>\n",
              "      <td>3</td>\n",
              "      <td>Hirvonen, Mrs. Alexander (Helga E Lindqvist)</td>\n",
              "      <td>female</td>\n",
              "      <td>22.0</td>\n",
              "      <td>1</td>\n",
              "      <td>1</td>\n",
              "      <td>3101298</td>\n",
              "      <td>12.2875</td>\n",
              "      <td>NaN</td>\n",
              "      <td>S</td>\n",
              "    </tr>\n",
              "  </tbody>\n",
              "</table>\n",
              "</div>\n",
              "    <div class=\"colab-df-buttons\">\n",
              "\n",
              "  <div class=\"colab-df-container\">\n",
              "    <button class=\"colab-df-convert\" onclick=\"convertToInteractive('df-72065efd-5955-40cd-b128-feccdeb21720')\"\n",
              "            title=\"Convert this dataframe to an interactive table.\"\n",
              "            style=\"display:none;\">\n",
              "\n",
              "  <svg xmlns=\"http://www.w3.org/2000/svg\" height=\"24px\" viewBox=\"0 -960 960 960\">\n",
              "    <path d=\"M120-120v-720h720v720H120Zm60-500h600v-160H180v160Zm220 220h160v-160H400v160Zm0 220h160v-160H400v160ZM180-400h160v-160H180v160Zm440 0h160v-160H620v160ZM180-180h160v-160H180v160Zm440 0h160v-160H620v160Z\"/>\n",
              "  </svg>\n",
              "    </button>\n",
              "\n",
              "  <style>\n",
              "    .colab-df-container {\n",
              "      display:flex;\n",
              "      gap: 12px;\n",
              "    }\n",
              "\n",
              "    .colab-df-convert {\n",
              "      background-color: #E8F0FE;\n",
              "      border: none;\n",
              "      border-radius: 50%;\n",
              "      cursor: pointer;\n",
              "      display: none;\n",
              "      fill: #1967D2;\n",
              "      height: 32px;\n",
              "      padding: 0 0 0 0;\n",
              "      width: 32px;\n",
              "    }\n",
              "\n",
              "    .colab-df-convert:hover {\n",
              "      background-color: #E2EBFA;\n",
              "      box-shadow: 0px 1px 2px rgba(60, 64, 67, 0.3), 0px 1px 3px 1px rgba(60, 64, 67, 0.15);\n",
              "      fill: #174EA6;\n",
              "    }\n",
              "\n",
              "    .colab-df-buttons div {\n",
              "      margin-bottom: 4px;\n",
              "    }\n",
              "\n",
              "    [theme=dark] .colab-df-convert {\n",
              "      background-color: #3B4455;\n",
              "      fill: #D2E3FC;\n",
              "    }\n",
              "\n",
              "    [theme=dark] .colab-df-convert:hover {\n",
              "      background-color: #434B5C;\n",
              "      box-shadow: 0px 1px 3px 1px rgba(0, 0, 0, 0.15);\n",
              "      filter: drop-shadow(0px 1px 2px rgba(0, 0, 0, 0.3));\n",
              "      fill: #FFFFFF;\n",
              "    }\n",
              "  </style>\n",
              "\n",
              "    <script>\n",
              "      const buttonEl =\n",
              "        document.querySelector('#df-72065efd-5955-40cd-b128-feccdeb21720 button.colab-df-convert');\n",
              "      buttonEl.style.display =\n",
              "        google.colab.kernel.accessAllowed ? 'block' : 'none';\n",
              "\n",
              "      async function convertToInteractive(key) {\n",
              "        const element = document.querySelector('#df-72065efd-5955-40cd-b128-feccdeb21720');\n",
              "        const dataTable =\n",
              "          await google.colab.kernel.invokeFunction('convertToInteractive',\n",
              "                                                    [key], {});\n",
              "        if (!dataTable) return;\n",
              "\n",
              "        const docLinkHtml = 'Like what you see? Visit the ' +\n",
              "          '<a target=\"_blank\" href=https://colab.research.google.com/notebooks/data_table.ipynb>data table notebook</a>'\n",
              "          + ' to learn more about interactive tables.';\n",
              "        element.innerHTML = '';\n",
              "        dataTable['output_type'] = 'display_data';\n",
              "        await google.colab.output.renderOutput(dataTable, element);\n",
              "        const docLink = document.createElement('div');\n",
              "        docLink.innerHTML = docLinkHtml;\n",
              "        element.appendChild(docLink);\n",
              "      }\n",
              "    </script>\n",
              "  </div>\n",
              "\n",
              "\n",
              "    <div id=\"df-36690f91-fa77-4e4e-80c7-514993da351c\">\n",
              "      <button class=\"colab-df-quickchart\" onclick=\"quickchart('df-36690f91-fa77-4e4e-80c7-514993da351c')\"\n",
              "                title=\"Suggest charts\"\n",
              "                style=\"display:none;\">\n",
              "\n",
              "<svg xmlns=\"http://www.w3.org/2000/svg\" height=\"24px\"viewBox=\"0 0 24 24\"\n",
              "     width=\"24px\">\n",
              "    <g>\n",
              "        <path d=\"M19 3H5c-1.1 0-2 .9-2 2v14c0 1.1.9 2 2 2h14c1.1 0 2-.9 2-2V5c0-1.1-.9-2-2-2zM9 17H7v-7h2v7zm4 0h-2V7h2v10zm4 0h-2v-4h2v4z\"/>\n",
              "    </g>\n",
              "</svg>\n",
              "      </button>\n",
              "\n",
              "<style>\n",
              "  .colab-df-quickchart {\n",
              "      --bg-color: #E8F0FE;\n",
              "      --fill-color: #1967D2;\n",
              "      --hover-bg-color: #E2EBFA;\n",
              "      --hover-fill-color: #174EA6;\n",
              "      --disabled-fill-color: #AAA;\n",
              "      --disabled-bg-color: #DDD;\n",
              "  }\n",
              "\n",
              "  [theme=dark] .colab-df-quickchart {\n",
              "      --bg-color: #3B4455;\n",
              "      --fill-color: #D2E3FC;\n",
              "      --hover-bg-color: #434B5C;\n",
              "      --hover-fill-color: #FFFFFF;\n",
              "      --disabled-bg-color: #3B4455;\n",
              "      --disabled-fill-color: #666;\n",
              "  }\n",
              "\n",
              "  .colab-df-quickchart {\n",
              "    background-color: var(--bg-color);\n",
              "    border: none;\n",
              "    border-radius: 50%;\n",
              "    cursor: pointer;\n",
              "    display: none;\n",
              "    fill: var(--fill-color);\n",
              "    height: 32px;\n",
              "    padding: 0;\n",
              "    width: 32px;\n",
              "  }\n",
              "\n",
              "  .colab-df-quickchart:hover {\n",
              "    background-color: var(--hover-bg-color);\n",
              "    box-shadow: 0 1px 2px rgba(60, 64, 67, 0.3), 0 1px 3px 1px rgba(60, 64, 67, 0.15);\n",
              "    fill: var(--button-hover-fill-color);\n",
              "  }\n",
              "\n",
              "  .colab-df-quickchart-complete:disabled,\n",
              "  .colab-df-quickchart-complete:disabled:hover {\n",
              "    background-color: var(--disabled-bg-color);\n",
              "    fill: var(--disabled-fill-color);\n",
              "    box-shadow: none;\n",
              "  }\n",
              "\n",
              "  .colab-df-spinner {\n",
              "    border: 2px solid var(--fill-color);\n",
              "    border-color: transparent;\n",
              "    border-bottom-color: var(--fill-color);\n",
              "    animation:\n",
              "      spin 1s steps(1) infinite;\n",
              "  }\n",
              "\n",
              "  @keyframes spin {\n",
              "    0% {\n",
              "      border-color: transparent;\n",
              "      border-bottom-color: var(--fill-color);\n",
              "      border-left-color: var(--fill-color);\n",
              "    }\n",
              "    20% {\n",
              "      border-color: transparent;\n",
              "      border-left-color: var(--fill-color);\n",
              "      border-top-color: var(--fill-color);\n",
              "    }\n",
              "    30% {\n",
              "      border-color: transparent;\n",
              "      border-left-color: var(--fill-color);\n",
              "      border-top-color: var(--fill-color);\n",
              "      border-right-color: var(--fill-color);\n",
              "    }\n",
              "    40% {\n",
              "      border-color: transparent;\n",
              "      border-right-color: var(--fill-color);\n",
              "      border-top-color: var(--fill-color);\n",
              "    }\n",
              "    60% {\n",
              "      border-color: transparent;\n",
              "      border-right-color: var(--fill-color);\n",
              "    }\n",
              "    80% {\n",
              "      border-color: transparent;\n",
              "      border-right-color: var(--fill-color);\n",
              "      border-bottom-color: var(--fill-color);\n",
              "    }\n",
              "    90% {\n",
              "      border-color: transparent;\n",
              "      border-bottom-color: var(--fill-color);\n",
              "    }\n",
              "  }\n",
              "</style>\n",
              "\n",
              "      <script>\n",
              "        async function quickchart(key) {\n",
              "          const quickchartButtonEl =\n",
              "            document.querySelector('#' + key + ' button');\n",
              "          quickchartButtonEl.disabled = true;  // To prevent multiple clicks.\n",
              "          quickchartButtonEl.classList.add('colab-df-spinner');\n",
              "          try {\n",
              "            const charts = await google.colab.kernel.invokeFunction(\n",
              "                'suggestCharts', [key], {});\n",
              "          } catch (error) {\n",
              "            console.error('Error during call to suggestCharts:', error);\n",
              "          }\n",
              "          quickchartButtonEl.classList.remove('colab-df-spinner');\n",
              "          quickchartButtonEl.classList.add('colab-df-quickchart-complete');\n",
              "        }\n",
              "        (() => {\n",
              "          let quickchartButtonEl =\n",
              "            document.querySelector('#df-36690f91-fa77-4e4e-80c7-514993da351c button');\n",
              "          quickchartButtonEl.style.display =\n",
              "            google.colab.kernel.accessAllowed ? 'block' : 'none';\n",
              "        })();\n",
              "      </script>\n",
              "    </div>\n",
              "\n",
              "    </div>\n",
              "  </div>\n"
            ],
            "application/vnd.google.colaboratory.intrinsic+json": {
              "type": "dataframe",
              "repr_error": "Out of range float values are not JSON compliant: nan"
            }
          },
          "metadata": {}
        },
        {
          "output_type": "stream",
          "name": "stdout",
          "text": [
            "\n",
            "Number of remaining missing values in Age column: 0\n"
          ]
        }
      ]
    },
    {
      "cell_type": "code",
      "source": [
        "#Abdelrahman Samir\n",
        "# Find the average age of the 5 oldest passengers\n",
        "# Sort by age in descending order, select the top 5, and calculate the mean of the Age column\n",
        "average_age_top_5_oldest = df_titanic.nlargest(5, 'Age')['Age'].mean()\n",
        "\n",
        "print(f\"The average age of the 5 oldest passengers is: {average_age_top_5_oldest}\")"
      ],
      "metadata": {
        "colab": {
          "base_uri": "https://localhost:8080/"
        },
        "id": "liEu_1U5c7xk",
        "outputId": "8ed1508f-3693-48f7-dbbe-b5c6f34d9318"
      },
      "execution_count": null,
      "outputs": [
        {
          "output_type": "stream",
          "name": "stdout",
          "text": [
            "The average age of the 5 oldest passengers is: 67.0\n"
          ]
        }
      ]
    },
    {
      "cell_type": "code",
      "source": [
        "#Abdelrahman Samir\n",
        "# Find the average price of the three most expensive purchases\n",
        "avg_price_top_3 = df_data.nlargest(3, 'price')['price'].mean()\n",
        "print(f\"The average price of the three most expensive purchases is: {avg_price_top_3}\")"
      ],
      "metadata": {
        "colab": {
          "base_uri": "https://localhost:8080/"
        },
        "id": "Q2wMz9lCc8JR",
        "outputId": "5340b53b-17cc-4374-cac3-337ea1305ed1"
      },
      "execution_count": null,
      "outputs": [
        {
          "output_type": "stream",
          "name": "stdout",
          "text": [
            "The average price of the three most expensive purchases is: 6.003333333333333\n"
          ]
        }
      ]
    },
    {
      "cell_type": "code",
      "source": [
        "#Abdelrahman Samir\n",
        "# Change the index back to row numbers but making sure that we don't lose the PassengerId column.\n",
        "df_titanic = df_titanic.reset_index()\n",
        "\n",
        "# Display the head to verify the changes\n",
        "display(df_titanic.head())"
      ],
      "metadata": {
        "colab": {
          "base_uri": "https://localhost:8080/",
          "height": 206
        },
        "id": "GQ9rHxgFejxm",
        "outputId": "5aff54ce-b9be-4015-b585-a2c44afcad2c"
      },
      "execution_count": null,
      "outputs": [
        {
          "output_type": "display_data",
          "data": {
            "text/plain": [
              "   index  PassengerId  Pclass                                Passenger_Name  \\\n",
              "0      0          892       3                              Kelly, Mr. James   \n",
              "1      1          893       3              Wilkes, Mrs. James (Ellen Needs)   \n",
              "2      2          894       2                     Myles, Mr. Thomas Francis   \n",
              "3      3          895       3                              Wirz, Mr. Albert   \n",
              "4      4          896       3  Hirvonen, Mrs. Alexander (Helga E Lindqvist)   \n",
              "\n",
              "      Sex   Age  SibSp  Parch Ticket_Num     Fare Cabin Embarked  \n",
              "0    male  34.5      0      0     330911   7.8292   NaN        Q  \n",
              "1  female  47.0      1      0     363272   7.0000   NaN        S  \n",
              "2    male  62.0      0      0     240276   9.6875   NaN        Q  \n",
              "3    male  27.0      0      0     315154   8.6625   NaN        S  \n",
              "4  female  22.0      1      1    3101298  12.2875   NaN        S  "
            ],
            "text/html": [
              "\n",
              "  <div id=\"df-d265e04d-635f-49f7-aa87-cb987f3a940e\" class=\"colab-df-container\">\n",
              "    <div>\n",
              "<style scoped>\n",
              "    .dataframe tbody tr th:only-of-type {\n",
              "        vertical-align: middle;\n",
              "    }\n",
              "\n",
              "    .dataframe tbody tr th {\n",
              "        vertical-align: top;\n",
              "    }\n",
              "\n",
              "    .dataframe thead th {\n",
              "        text-align: right;\n",
              "    }\n",
              "</style>\n",
              "<table border=\"1\" class=\"dataframe\">\n",
              "  <thead>\n",
              "    <tr style=\"text-align: right;\">\n",
              "      <th></th>\n",
              "      <th>index</th>\n",
              "      <th>PassengerId</th>\n",
              "      <th>Pclass</th>\n",
              "      <th>Passenger_Name</th>\n",
              "      <th>Sex</th>\n",
              "      <th>Age</th>\n",
              "      <th>SibSp</th>\n",
              "      <th>Parch</th>\n",
              "      <th>Ticket_Num</th>\n",
              "      <th>Fare</th>\n",
              "      <th>Cabin</th>\n",
              "      <th>Embarked</th>\n",
              "    </tr>\n",
              "  </thead>\n",
              "  <tbody>\n",
              "    <tr>\n",
              "      <th>0</th>\n",
              "      <td>0</td>\n",
              "      <td>892</td>\n",
              "      <td>3</td>\n",
              "      <td>Kelly, Mr. James</td>\n",
              "      <td>male</td>\n",
              "      <td>34.5</td>\n",
              "      <td>0</td>\n",
              "      <td>0</td>\n",
              "      <td>330911</td>\n",
              "      <td>7.8292</td>\n",
              "      <td>NaN</td>\n",
              "      <td>Q</td>\n",
              "    </tr>\n",
              "    <tr>\n",
              "      <th>1</th>\n",
              "      <td>1</td>\n",
              "      <td>893</td>\n",
              "      <td>3</td>\n",
              "      <td>Wilkes, Mrs. James (Ellen Needs)</td>\n",
              "      <td>female</td>\n",
              "      <td>47.0</td>\n",
              "      <td>1</td>\n",
              "      <td>0</td>\n",
              "      <td>363272</td>\n",
              "      <td>7.0000</td>\n",
              "      <td>NaN</td>\n",
              "      <td>S</td>\n",
              "    </tr>\n",
              "    <tr>\n",
              "      <th>2</th>\n",
              "      <td>2</td>\n",
              "      <td>894</td>\n",
              "      <td>2</td>\n",
              "      <td>Myles, Mr. Thomas Francis</td>\n",
              "      <td>male</td>\n",
              "      <td>62.0</td>\n",
              "      <td>0</td>\n",
              "      <td>0</td>\n",
              "      <td>240276</td>\n",
              "      <td>9.6875</td>\n",
              "      <td>NaN</td>\n",
              "      <td>Q</td>\n",
              "    </tr>\n",
              "    <tr>\n",
              "      <th>3</th>\n",
              "      <td>3</td>\n",
              "      <td>895</td>\n",
              "      <td>3</td>\n",
              "      <td>Wirz, Mr. Albert</td>\n",
              "      <td>male</td>\n",
              "      <td>27.0</td>\n",
              "      <td>0</td>\n",
              "      <td>0</td>\n",
              "      <td>315154</td>\n",
              "      <td>8.6625</td>\n",
              "      <td>NaN</td>\n",
              "      <td>S</td>\n",
              "    </tr>\n",
              "    <tr>\n",
              "      <th>4</th>\n",
              "      <td>4</td>\n",
              "      <td>896</td>\n",
              "      <td>3</td>\n",
              "      <td>Hirvonen, Mrs. Alexander (Helga E Lindqvist)</td>\n",
              "      <td>female</td>\n",
              "      <td>22.0</td>\n",
              "      <td>1</td>\n",
              "      <td>1</td>\n",
              "      <td>3101298</td>\n",
              "      <td>12.2875</td>\n",
              "      <td>NaN</td>\n",
              "      <td>S</td>\n",
              "    </tr>\n",
              "  </tbody>\n",
              "</table>\n",
              "</div>\n",
              "    <div class=\"colab-df-buttons\">\n",
              "\n",
              "  <div class=\"colab-df-container\">\n",
              "    <button class=\"colab-df-convert\" onclick=\"convertToInteractive('df-d265e04d-635f-49f7-aa87-cb987f3a940e')\"\n",
              "            title=\"Convert this dataframe to an interactive table.\"\n",
              "            style=\"display:none;\">\n",
              "\n",
              "  <svg xmlns=\"http://www.w3.org/2000/svg\" height=\"24px\" viewBox=\"0 -960 960 960\">\n",
              "    <path d=\"M120-120v-720h720v720H120Zm60-500h600v-160H180v160Zm220 220h160v-160H400v160Zm0 220h160v-160H400v160ZM180-400h160v-160H180v160Zm440 0h160v-160H620v160ZM180-180h160v-160H180v160Zm440 0h160v-160H620v160Z\"/>\n",
              "  </svg>\n",
              "    </button>\n",
              "\n",
              "  <style>\n",
              "    .colab-df-container {\n",
              "      display:flex;\n",
              "      gap: 12px;\n",
              "    }\n",
              "\n",
              "    .colab-df-convert {\n",
              "      background-color: #E8F0FE;\n",
              "      border: none;\n",
              "      border-radius: 50%;\n",
              "      cursor: pointer;\n",
              "      display: none;\n",
              "      fill: #1967D2;\n",
              "      height: 32px;\n",
              "      padding: 0 0 0 0;\n",
              "      width: 32px;\n",
              "    }\n",
              "\n",
              "    .colab-df-convert:hover {\n",
              "      background-color: #E2EBFA;\n",
              "      box-shadow: 0px 1px 2px rgba(60, 64, 67, 0.3), 0px 1px 3px 1px rgba(60, 64, 67, 0.15);\n",
              "      fill: #174EA6;\n",
              "    }\n",
              "\n",
              "    .colab-df-buttons div {\n",
              "      margin-bottom: 4px;\n",
              "    }\n",
              "\n",
              "    [theme=dark] .colab-df-convert {\n",
              "      background-color: #3B4455;\n",
              "      fill: #D2E3FC;\n",
              "    }\n",
              "\n",
              "    [theme=dark] .colab-df-convert:hover {\n",
              "      background-color: #434B5C;\n",
              "      box-shadow: 0px 1px 3px 1px rgba(0, 0, 0, 0.15);\n",
              "      filter: drop-shadow(0px 1px 2px rgba(0, 0, 0, 0.3));\n",
              "      fill: #FFFFFF;\n",
              "    }\n",
              "  </style>\n",
              "\n",
              "    <script>\n",
              "      const buttonEl =\n",
              "        document.querySelector('#df-d265e04d-635f-49f7-aa87-cb987f3a940e button.colab-df-convert');\n",
              "      buttonEl.style.display =\n",
              "        google.colab.kernel.accessAllowed ? 'block' : 'none';\n",
              "\n",
              "      async function convertToInteractive(key) {\n",
              "        const element = document.querySelector('#df-d265e04d-635f-49f7-aa87-cb987f3a940e');\n",
              "        const dataTable =\n",
              "          await google.colab.kernel.invokeFunction('convertToInteractive',\n",
              "                                                    [key], {});\n",
              "        if (!dataTable) return;\n",
              "\n",
              "        const docLinkHtml = 'Like what you see? Visit the ' +\n",
              "          '<a target=\"_blank\" href=https://colab.research.google.com/notebooks/data_table.ipynb>data table notebook</a>'\n",
              "          + ' to learn more about interactive tables.';\n",
              "        element.innerHTML = '';\n",
              "        dataTable['output_type'] = 'display_data';\n",
              "        await google.colab.output.renderOutput(dataTable, element);\n",
              "        const docLink = document.createElement('div');\n",
              "        docLink.innerHTML = docLinkHtml;\n",
              "        element.appendChild(docLink);\n",
              "      }\n",
              "    </script>\n",
              "  </div>\n",
              "\n",
              "\n",
              "    <div id=\"df-ca3591f8-ea6c-44aa-a694-9229e1305c5c\">\n",
              "      <button class=\"colab-df-quickchart\" onclick=\"quickchart('df-ca3591f8-ea6c-44aa-a694-9229e1305c5c')\"\n",
              "                title=\"Suggest charts\"\n",
              "                style=\"display:none;\">\n",
              "\n",
              "<svg xmlns=\"http://www.w3.org/2000/svg\" height=\"24px\"viewBox=\"0 0 24 24\"\n",
              "     width=\"24px\">\n",
              "    <g>\n",
              "        <path d=\"M19 3H5c-1.1 0-2 .9-2 2v14c0 1.1.9 2 2 2h14c1.1 0 2-.9 2-2V5c0-1.1-.9-2-2-2zM9 17H7v-7h2v7zm4 0h-2V7h2v10zm4 0h-2v-4h2v4z\"/>\n",
              "    </g>\n",
              "</svg>\n",
              "      </button>\n",
              "\n",
              "<style>\n",
              "  .colab-df-quickchart {\n",
              "      --bg-color: #E8F0FE;\n",
              "      --fill-color: #1967D2;\n",
              "      --hover-bg-color: #E2EBFA;\n",
              "      --hover-fill-color: #174EA6;\n",
              "      --disabled-fill-color: #AAA;\n",
              "      --disabled-bg-color: #DDD;\n",
              "  }\n",
              "\n",
              "  [theme=dark] .colab-df-quickchart {\n",
              "      --bg-color: #3B4455;\n",
              "      --fill-color: #D2E3FC;\n",
              "      --hover-bg-color: #434B5C;\n",
              "      --hover-fill-color: #FFFFFF;\n",
              "      --disabled-bg-color: #3B4455;\n",
              "      --disabled-fill-color: #666;\n",
              "  }\n",
              "\n",
              "  .colab-df-quickchart {\n",
              "    background-color: var(--bg-color);\n",
              "    border: none;\n",
              "    border-radius: 50%;\n",
              "    cursor: pointer;\n",
              "    display: none;\n",
              "    fill: var(--fill-color);\n",
              "    height: 32px;\n",
              "    padding: 0;\n",
              "    width: 32px;\n",
              "  }\n",
              "\n",
              "  .colab-df-quickchart:hover {\n",
              "    background-color: var(--hover-bg-color);\n",
              "    box-shadow: 0 1px 2px rgba(60, 64, 67, 0.3), 0 1px 3px 1px rgba(60, 64, 67, 0.15);\n",
              "    fill: var(--button-hover-fill-color);\n",
              "  }\n",
              "\n",
              "  .colab-df-quickchart-complete:disabled,\n",
              "  .colab-df-quickchart-complete:disabled:hover {\n",
              "    background-color: var(--disabled-bg-color);\n",
              "    fill: var(--disabled-fill-color);\n",
              "    box-shadow: none;\n",
              "  }\n",
              "\n",
              "  .colab-df-spinner {\n",
              "    border: 2px solid var(--fill-color);\n",
              "    border-color: transparent;\n",
              "    border-bottom-color: var(--fill-color);\n",
              "    animation:\n",
              "      spin 1s steps(1) infinite;\n",
              "  }\n",
              "\n",
              "  @keyframes spin {\n",
              "    0% {\n",
              "      border-color: transparent;\n",
              "      border-bottom-color: var(--fill-color);\n",
              "      border-left-color: var(--fill-color);\n",
              "    }\n",
              "    20% {\n",
              "      border-color: transparent;\n",
              "      border-left-color: var(--fill-color);\n",
              "      border-top-color: var(--fill-color);\n",
              "    }\n",
              "    30% {\n",
              "      border-color: transparent;\n",
              "      border-left-color: var(--fill-color);\n",
              "      border-top-color: var(--fill-color);\n",
              "      border-right-color: var(--fill-color);\n",
              "    }\n",
              "    40% {\n",
              "      border-color: transparent;\n",
              "      border-right-color: var(--fill-color);\n",
              "      border-top-color: var(--fill-color);\n",
              "    }\n",
              "    60% {\n",
              "      border-color: transparent;\n",
              "      border-right-color: var(--fill-color);\n",
              "    }\n",
              "    80% {\n",
              "      border-color: transparent;\n",
              "      border-right-color: var(--fill-color);\n",
              "      border-bottom-color: var(--fill-color);\n",
              "    }\n",
              "    90% {\n",
              "      border-color: transparent;\n",
              "      border-bottom-color: var(--fill-color);\n",
              "    }\n",
              "  }\n",
              "</style>\n",
              "\n",
              "      <script>\n",
              "        async function quickchart(key) {\n",
              "          const quickchartButtonEl =\n",
              "            document.querySelector('#' + key + ' button');\n",
              "          quickchartButtonEl.disabled = true;  // To prevent multiple clicks.\n",
              "          quickchartButtonEl.classList.add('colab-df-spinner');\n",
              "          try {\n",
              "            const charts = await google.colab.kernel.invokeFunction(\n",
              "                'suggestCharts', [key], {});\n",
              "          } catch (error) {\n",
              "            console.error('Error during call to suggestCharts:', error);\n",
              "          }\n",
              "          quickchartButtonEl.classList.remove('colab-df-spinner');\n",
              "          quickchartButtonEl.classList.add('colab-df-quickchart-complete');\n",
              "        }\n",
              "        (() => {\n",
              "          let quickchartButtonEl =\n",
              "            document.querySelector('#df-ca3591f8-ea6c-44aa-a694-9229e1305c5c button');\n",
              "          quickchartButtonEl.style.display =\n",
              "            google.colab.kernel.accessAllowed ? 'block' : 'none';\n",
              "        })();\n",
              "      </script>\n",
              "    </div>\n",
              "\n",
              "    </div>\n",
              "  </div>\n"
            ],
            "application/vnd.google.colaboratory.intrinsic+json": {
              "type": "dataframe",
              "repr_error": "Out of range float values are not JSON compliant: nan"
            }
          },
          "metadata": {}
        }
      ]
    },
    {
      "cell_type": "code",
      "source": [],
      "metadata": {
        "id": "qp--NLmIenRs"
      },
      "execution_count": null,
      "outputs": []
    }
  ]
}