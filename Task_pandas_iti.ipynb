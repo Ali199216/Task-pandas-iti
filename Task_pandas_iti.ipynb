{
  "nbformat": 4,
  "nbformat_minor": 0,
  "metadata": {
    "colab": {
      "provenance": [],
      "include_colab_link": true
    },
    "kernelspec": {
      "name": "python3",
      "display_name": "Python 3"
    },
    "language_info": {
      "name": "python"
    }
  },
  "cells": [
    {
      "cell_type": "markdown",
      "metadata": {
        "id": "view-in-github",
        "colab_type": "text"
      },
      "source": [
        "<a href=\"https://colab.research.google.com/github/Ali199216/Task-pandas-iti/blob/main/Task_pandas_iti.ipynb\" target=\"_parent\"><img src=\"https://colab.research.google.com/assets/colab-badge.svg\" alt=\"Open In Colab\"/></a>"
      ]
    },
    {
      "cell_type": "code",
      "execution_count": null,
      "metadata": {
        "colab": {
          "base_uri": "https://localhost:8080/"
        },
        "id": "dzjBhqG3nybE",
        "outputId": "89d662df-481e-433f-f5f3-24a97c6f0199"
      },
      "outputs": [
        {
          "output_type": "stream",
          "name": "stdout",
          "text": [
            "   OrderID CustomerID Product  Quantity  UnitPrice  Total        Date\n",
            "0     1001    CUST009  Laptop         3        539   1617  2023-06-15\n",
            "1     1002    CUST007   Phone         1       1530   1530  2023-01-08\n",
            "2     1003    CUST006  Tablet         5       1225   6125  2023-07-09\n",
            "3     1004    CUST011  Laptop         1       1557   1557  2023-04-12\n",
            "4     1005    CUST003  Tablet         5        783   3915  2023-02-09\n"
          ]
        }
      ],
      "source": [
        "# Ali Sayed Mahmoud\n",
        "import pandas as pd\n",
        "df_data = pd.read_csv('/content/Purchase_Data.csv')\n",
        "print(df_data.head())"
      ]
    },
    {
      "cell_type": "code",
      "source": [
        "# Ali Sayed Mahmoud\n",
        "import pandas as pd\n",
        "df_data = pd.read_csv('Purchase_Data.csv')\n",
        "print(df_data.dtypes)"
      ],
      "metadata": {
        "colab": {
          "base_uri": "https://localhost:8080/"
        },
        "id": "jjB5oeubqTGH",
        "outputId": "8d45fcbf-2ccf-45e9-ada7-16e48eb61d3c"
      },
      "execution_count": null,
      "outputs": [
        {
          "output_type": "stream",
          "name": "stdout",
          "text": [
            "OrderID        int64\n",
            "CustomerID    object\n",
            "Product       object\n",
            "Quantity       int64\n",
            "UnitPrice      int64\n",
            "Total          int64\n",
            "Date          object\n",
            "dtype: object\n"
          ]
        }
      ]
    },
    {
      "cell_type": "code",
      "source": [
        "# Ali Sayed Mahmoud\n",
        "import pandas as pd\n",
        "df_data = pd.read_csv('Purchase_Data.csv')\n",
        "result_1 = df_data.loc[:, df_data.columns[:2]]\n",
        "print(result_1.head())"
      ],
      "metadata": {
        "colab": {
          "base_uri": "https://localhost:8080/"
        },
        "id": "6oTF3cRwqkWW",
        "outputId": "cb5e9050-ff12-445c-f518-8edae707ec04"
      },
      "execution_count": null,
      "outputs": [
        {
          "output_type": "stream",
          "name": "stdout",
          "text": [
            "   OrderID CustomerID\n",
            "0     1001    CUST009\n",
            "1     1002    CUST007\n",
            "2     1003    CUST006\n",
            "3     1004    CUST011\n",
            "4     1005    CUST003\n"
          ]
        }
      ]
    },
    {
      "cell_type": "code",
      "source": [
        "# Ali Sayed Mahmoud\n",
        "import pandas as pd\n",
        "df_data = pd.read_csv('Purchase_Data.csv')\n",
        "result_2 = df_data.loc[:1, :]\n",
        "print(result_2)"
      ],
      "metadata": {
        "colab": {
          "base_uri": "https://localhost:8080/"
        },
        "id": "MTyE8CaAqmTT",
        "outputId": "e449587f-5ef8-4d55-a4e2-55e07e0d9351"
      },
      "execution_count": null,
      "outputs": [
        {
          "output_type": "stream",
          "name": "stdout",
          "text": [
            "   OrderID CustomerID Product  Quantity  UnitPrice  Total        Date\n",
            "0     1001    CUST009  Laptop         3        539   1617  2023-06-15\n",
            "1     1002    CUST007   Phone         1       1530   1530  2023-01-08\n"
          ]
        }
      ]
    },
    {
      "cell_type": "code",
      "source": [
        "# Ali Sayed Mahmoud\n",
        "import pandas as pd\n",
        "df_data = pd.read_csv('Purchase_Data.csv')\n",
        "result_3 = df_data.loc[:3, df_data.columns[:5]]\n",
        "print(result_3)"
      ],
      "metadata": {
        "colab": {
          "base_uri": "https://localhost:8080/"
        },
        "id": "6PIDFGZWqnPn",
        "outputId": "b09e1a14-eef0-48bf-b5e7-de5125603eac"
      },
      "execution_count": null,
      "outputs": [
        {
          "output_type": "stream",
          "name": "stdout",
          "text": [
            "   OrderID CustomerID Product  Quantity  UnitPrice\n",
            "0     1001    CUST009  Laptop         3        539\n",
            "1     1002    CUST007   Phone         1       1530\n",
            "2     1003    CUST006  Tablet         5       1225\n",
            "3     1004    CUST011  Laptop         1       1557\n"
          ]
        }
      ]
    },
    {
      "cell_type": "code",
      "source": [
        "#nada mohammed\n",
        "result_4 = df_data.loc[[0, 4, 6], [\"Product\", \"Date\", \"Total\"]]\n",
        "print(result_4)"
      ],
      "metadata": {
        "colab": {
          "base_uri": "https://localhost:8080/"
        },
        "id": "IQug1jX-s0kC",
        "outputId": "70256892-4e69-4d48-d53f-30e4926003d6"
      },
      "execution_count": null,
      "outputs": [
        {
          "output_type": "stream",
          "name": "stdout",
          "text": [
            "      Product        Date  Total\n",
            "0      Laptop  2023-06-15   1617\n",
            "4      Tablet  2023-02-09   3915\n",
            "6  Headphones  2023-10-24   3088\n"
          ]
        }
      ]
    },
    {
      "cell_type": "code",
      "source": [
        "#nada mohammed\n",
        "num_rows = df_data.shape[0]"
      ],
      "metadata": {
        "id": "MWQTTy7ys0gf"
      },
      "execution_count": null,
      "outputs": []
    },
    {
      "cell_type": "code",
      "source": [
        "# nada mohammed\n",
        "last_row = df_data.loc[num_rows - 1]\n",
        "print(last_row)"
      ],
      "metadata": {
        "colab": {
          "base_uri": "https://localhost:8080/"
        },
        "id": "pv7yOe63s0eJ",
        "outputId": "56b8779a-02cf-4765-c6f5-bfe88b3f9045"
      },
      "execution_count": null,
      "outputs": [
        {
          "output_type": "stream",
          "name": "stdout",
          "text": [
            "OrderID             1050\n",
            "CustomerID       CUST009\n",
            "Product       Headphones\n",
            "Quantity               3\n",
            "UnitPrice           1761\n",
            "Total               5283\n",
            "Date          2023-12-14\n",
            "Name: 49, dtype: object\n"
          ]
        }
      ]
    },
    {
      "cell_type": "code",
      "source": [
        "# nada mohammed\n",
        "avg_price = df_data[\"UnitPrice\"].mean()\n",
        "max_price = df_data[\"UnitPrice\"].max()\n",
        "print(f'The average unit price is {avg_price} and the maximum unit price is {max_price}')"
      ],
      "metadata": {
        "colab": {
          "base_uri": "https://localhost:8080/"
        },
        "id": "O6JuQ7qts0bU",
        "outputId": "7ed772c7-4d9b-41d7-cc90-66cb1bd4193a"
      },
      "execution_count": null,
      "outputs": [
        {
          "output_type": "stream",
          "name": "stdout",
          "text": [
            "The average unit price is 1078.46 and the maximum unit price is 1972\n"
          ]
        }
      ]
    },
    {
      "cell_type": "code",
      "source": [
        "#nada mohammed\n",
        "avg_price, avg_num_items = df_data[[\"UnitPrice\", \"Quantity\"]].mean()\n",
        "print(f'The average unit price is {avg_price} and the average number of items is {avg_num_items}')"
      ],
      "metadata": {
        "colab": {
          "base_uri": "https://localhost:8080/"
        },
        "id": "JUPSPRkNs0Y0",
        "outputId": "29b05579-3ce1-4e33-b538-1da6af09b35a"
      },
      "execution_count": null,
      "outputs": [
        {
          "output_type": "stream",
          "name": "stdout",
          "text": [
            "The average unit price is 1078.46 and the average number of items is 2.92\n"
          ]
        }
      ]
    }
  ]
}