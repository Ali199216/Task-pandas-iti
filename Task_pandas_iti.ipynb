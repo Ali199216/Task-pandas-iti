{
  "nbformat": 4,
  "nbformat_minor": 0,
  "metadata": {
    "colab": {
      "provenance": [],
      "include_colab_link": true
    },
    "kernelspec": {
      "name": "python3",
      "display_name": "Python 3"
    },
    "language_info": {
      "name": "python"
    }
  },
  "cells": [
    {
      "cell_type": "markdown",
      "metadata": {
        "id": "view-in-github",
        "colab_type": "text"
      },
      "source": [
        "<a href=\"https://colab.research.google.com/github/Ali199216/Task-pandas-iti/blob/main/Task_pandas_iti.ipynb\" target=\"_parent\"><img src=\"https://colab.research.google.com/assets/colab-badge.svg\" alt=\"Open In Colab\"/></a>"
      ]
    },
    {
      "cell_type": "code",
      "execution_count": 78,
      "metadata": {
        "colab": {
          "base_uri": "https://localhost:8080/"
        },
        "id": "dzjBhqG3nybE",
        "outputId": "03fc2f54-6f09-4ae7-d9a8-8e1215701fcf"
      },
      "outputs": [
        {
          "output_type": "stream",
          "name": "stdout",
          "text": [
            "   invoice_number     invoice_time store_id  product_id  category_id  \\\n",
            "0    2.020000e+11  7/15/2015 10:45     G816     7000300       210101   \n",
            "1    2.020000e+11  7/15/2015 12:16     G816     7070884        70203   \n",
            "2    2.020000e+11  7/15/2015 12:16     G816     7070884        70203   \n",
            "3    2.020000e+11  7/15/2015 12:16     G816     7070891        70401   \n",
            "4    2.020000e+11  7/15/2015 12:16     G816     7090363        70401   \n",
            "\n",
            "   num_item  price  \n",
            "0       1.0    2.0  \n",
            "1       1.0    2.0  \n",
            "2       1.0    2.0  \n",
            "3       1.0    6.0  \n",
            "4       1.0    6.0  \n"
          ]
        }
      ],
      "source": [
        "# Ali Sayed Mahmoud\n",
        "import pandas as pd\n",
        "df_data = pd.read_csv('/content/Purchase_Data.csv')\n",
        "print(df_data.head())"
      ]
    },
    {
      "cell_type": "code",
      "source": [
        "# Ali Sayed Mahmoud\n",
        "import pandas as pd\n",
        "df_data = pd.read_csv('Purchase_Data.csv')\n",
        "print(df_data.dtypes)"
      ],
      "metadata": {
        "colab": {
          "base_uri": "https://localhost:8080/"
        },
        "id": "jjB5oeubqTGH",
        "outputId": "af110604-f850-4118-dfac-f21fd5cd9895"
      },
      "execution_count": 79,
      "outputs": [
        {
          "output_type": "stream",
          "name": "stdout",
          "text": [
            "invoice_number    float64\n",
            "invoice_time       object\n",
            "store_id           object\n",
            "product_id          int64\n",
            "category_id         int64\n",
            "num_item          float64\n",
            "price             float64\n",
            "dtype: object\n"
          ]
        }
      ]
    },
    {
      "cell_type": "code",
      "source": [
        "# Ali Sayed Mahmoud\n",
        "import pandas as pd\n",
        "df_data = pd.read_csv('Purchase_Data.csv')\n",
        "result_1 = df_data.loc[:, df_data.columns[:2]]\n",
        "print(result_1.head())"
      ],
      "metadata": {
        "colab": {
          "base_uri": "https://localhost:8080/"
        },
        "id": "6oTF3cRwqkWW",
        "outputId": "ff527428-72e2-43aa-9662-672e14d3af67"
      },
      "execution_count": 80,
      "outputs": [
        {
          "output_type": "stream",
          "name": "stdout",
          "text": [
            "   invoice_number     invoice_time\n",
            "0    2.020000e+11  7/15/2015 10:45\n",
            "1    2.020000e+11  7/15/2015 12:16\n",
            "2    2.020000e+11  7/15/2015 12:16\n",
            "3    2.020000e+11  7/15/2015 12:16\n",
            "4    2.020000e+11  7/15/2015 12:16\n"
          ]
        }
      ]
    },
    {
      "cell_type": "code",
      "source": [
        "# Ali Sayed Mahmoud\n",
        "import pandas as pd\n",
        "df_data = pd.read_csv('Purchase_Data.csv')\n",
        "result_2 = df_data.loc[:1, :]\n",
        "print(result_2)"
      ],
      "metadata": {
        "colab": {
          "base_uri": "https://localhost:8080/"
        },
        "id": "MTyE8CaAqmTT",
        "outputId": "82107b8d-3038-4bd9-d4e9-0fa15154c02a"
      },
      "execution_count": 81,
      "outputs": [
        {
          "output_type": "stream",
          "name": "stdout",
          "text": [
            "   invoice_number     invoice_time store_id  product_id  category_id  \\\n",
            "0    2.020000e+11  7/15/2015 10:45     G816     7000300       210101   \n",
            "1    2.020000e+11  7/15/2015 12:16     G816     7070884        70203   \n",
            "\n",
            "   num_item  price  \n",
            "0       1.0    2.0  \n",
            "1       1.0    2.0  \n"
          ]
        }
      ]
    },
    {
      "cell_type": "code",
      "source": [
        "# Ali Sayed Mahmoud\n",
        "import pandas as pd\n",
        "df_data = pd.read_csv('Purchase_Data.csv')\n",
        "result_3 = df_data.loc[:3, df_data.columns[:5]]\n",
        "print(result_3)"
      ],
      "metadata": {
        "colab": {
          "base_uri": "https://localhost:8080/"
        },
        "id": "6PIDFGZWqnPn",
        "outputId": "2b70833f-dd1e-4622-d1fc-8f7b12236db5"
      },
      "execution_count": 82,
      "outputs": [
        {
          "output_type": "stream",
          "name": "stdout",
          "text": [
            "   invoice_number     invoice_time store_id  product_id  category_id\n",
            "0    2.020000e+11  7/15/2015 10:45     G816     7000300       210101\n",
            "1    2.020000e+11  7/15/2015 12:16     G816     7070884        70203\n",
            "2    2.020000e+11  7/15/2015 12:16     G816     7070884        70203\n",
            "3    2.020000e+11  7/15/2015 12:16     G816     7070891        70401\n"
          ]
        }
      ]
    },
    {
      "cell_type": "code",
      "source": [
        "#nada mohammed\n",
        "result_4 = df_data.loc[[0, 4, 6], [\"product_id\", \"invoice_time\", \"price\"]]\n",
        "print(result_4)"
      ],
      "metadata": {
        "colab": {
          "base_uri": "https://localhost:8080/"
        },
        "id": "IQug1jX-s0kC",
        "outputId": "1ee91d85-76a8-444a-cc68-18c5d08eac44"
      },
      "execution_count": 85,
      "outputs": [
        {
          "output_type": "stream",
          "name": "stdout",
          "text": [
            "   product_id     invoice_time  price\n",
            "0     7000300  7/15/2015 10:45    2.0\n",
            "4     7090363  7/15/2015 12:16    6.0\n",
            "6     7000126  7/15/2015 15:28    2.0\n"
          ]
        }
      ]
    },
    {
      "cell_type": "code",
      "source": [
        "#nada mohammed\n",
        "num_rows = df_data.shape[0]"
      ],
      "metadata": {
        "id": "MWQTTy7ys0gf"
      },
      "execution_count": 86,
      "outputs": []
    },
    {
      "cell_type": "code",
      "source": [
        "# nada mohammed\n",
        "last_row = df_data.loc[num_rows - 1]\n",
        "print(last_row)"
      ],
      "metadata": {
        "colab": {
          "base_uri": "https://localhost:8080/"
        },
        "id": "pv7yOe63s0eJ",
        "outputId": "d053606b-3ec4-4e35-e7a6-fc08779220a6"
      },
      "execution_count": 87,
      "outputs": [
        {
          "output_type": "stream",
          "name": "stdout",
          "text": [
            "invoice_number    202000000000.0\n",
            "invoice_time      9/5/2015 23:38\n",
            "store_id                    G619\n",
            "product_id              23030206\n",
            "category_id               210101\n",
            "num_item                     1.0\n",
            "price                        2.0\n",
            "Name: 5381, dtype: object\n"
          ]
        }
      ]
    },
    {
      "cell_type": "code",
      "source": [
        "# nada mohammed\n",
        "avg_price = df_data[\"price\"].mean()\n",
        "max_price = df_data[\"price\"].max()\n",
        "print(f'The average unit price is {avg_price} and the maximum unit price is {max_price}')"
      ],
      "metadata": {
        "colab": {
          "base_uri": "https://localhost:8080/"
        },
        "id": "O6JuQ7qts0bU",
        "outputId": "c7ef680f-ef44-43d9-c388-56de620e19e0"
      },
      "execution_count": 89,
      "outputs": [
        {
          "output_type": "stream",
          "name": "stdout",
          "text": [
            "The average unit price is 3.1920522110741363 and the maximum unit price is 6.01\n"
          ]
        }
      ]
    },
    {
      "cell_type": "code",
      "source": [
        "#nada mohammed\n",
        "avg_price, avg_num_items = df_data[[\"UnitPrice\", \"Quantity\"]].mean()\n",
        "print(f'The average unit price is {avg_price} and the average number of items is {avg_num_items}')"
      ],
      "metadata": {
        "id": "JUPSPRkNs0Y0"
      },
      "execution_count": null,
      "outputs": []
    },
    {
      "cell_type": "code",
      "source": [
        "\n",
        "import pandas as pd\n",
        "\n",
        "df_data = pd.read_csv(\"Purchase_Data.csv\")\n",
        "print(df_data.head())\n"
      ],
      "metadata": {
        "colab": {
          "base_uri": "https://localhost:8080/"
        },
        "id": "IR214FpB6ClH",
        "outputId": "fb1c0226-8073-4044-935d-2d9226cc57c3"
      },
      "execution_count": 90,
      "outputs": [
        {
          "output_type": "stream",
          "name": "stdout",
          "text": [
            "   invoice_number     invoice_time store_id  product_id  category_id  \\\n",
            "0    2.020000e+11  7/15/2015 10:45     G816     7000300       210101   \n",
            "1    2.020000e+11  7/15/2015 12:16     G816     7070884        70203   \n",
            "2    2.020000e+11  7/15/2015 12:16     G816     7070884        70203   \n",
            "3    2.020000e+11  7/15/2015 12:16     G816     7070891        70401   \n",
            "4    2.020000e+11  7/15/2015 12:16     G816     7090363        70401   \n",
            "\n",
            "   num_item  price  \n",
            "0       1.0    2.0  \n",
            "1       1.0    2.0  \n",
            "2       1.0    2.0  \n",
            "3       1.0    6.0  \n",
            "4       1.0    6.0  \n"
          ]
        }
      ]
    },
    {
      "cell_type": "code",
      "source": [
        "#samar nashaat\n",
        "df_data[\"total\"] = df_data[\"price\"] * df_data[\"num_item\"]\n",
        "print(df_data.head())"
      ],
      "metadata": {
        "colab": {
          "base_uri": "https://localhost:8080/"
        },
        "id": "EHSz3Fyx63Ei",
        "outputId": "34b64d26-8cc0-418b-af6e-e83ae44fbf64"
      },
      "execution_count": 92,
      "outputs": [
        {
          "output_type": "stream",
          "name": "stdout",
          "text": [
            "   invoice_number     invoice_time store_id  product_id  category_id  \\\n",
            "0    2.020000e+11  7/15/2015 10:45     G816     7000300       210101   \n",
            "1    2.020000e+11  7/15/2015 12:16     G816     7070884        70203   \n",
            "2    2.020000e+11  7/15/2015 12:16     G816     7070884        70203   \n",
            "3    2.020000e+11  7/15/2015 12:16     G816     7070891        70401   \n",
            "4    2.020000e+11  7/15/2015 12:16     G816     7090363        70401   \n",
            "\n",
            "   num_item  price  total  \n",
            "0       1.0    2.0    2.0  \n",
            "1       1.0    2.0    2.0  \n",
            "2       1.0    2.0    2.0  \n",
            "3       1.0    6.0    6.0  \n",
            "4       1.0    6.0    6.0  \n"
          ]
        }
      ]
    },
    {
      "cell_type": "code",
      "source": [
        "#samar nashaat\n",
        "avg_top3_price = df_data.nlargest(3, \"total\")[\"total\"].mean()\n",
        "print(\"Average price of top 3 expensive purchases:\", avg_top3_price)"
      ],
      "metadata": {
        "colab": {
          "base_uri": "https://localhost:8080/"
        },
        "id": "sy0iglRX67qD",
        "outputId": "c4b4befa-a895-42ac-c1d5-aa3f8d0a442e"
      },
      "execution_count": 93,
      "outputs": [
        {
          "output_type": "stream",
          "name": "stdout",
          "text": [
            "Average price of top 3 expensive purchases: 164.0\n"
          ]
        }
      ]
    },
    {
      "cell_type": "code",
      "source": [
        "#samar nashaat\n",
        "num_products = df_data[\"product_id\"].nunique()\n",
        "print(\"Number of different products:\", num_products)"
      ],
      "metadata": {
        "colab": {
          "base_uri": "https://localhost:8080/"
        },
        "id": "JpZ8qrvS6-3A",
        "outputId": "dc7bfaf3-bcd6-4d53-91ab-1dce0dc480c3"
      },
      "execution_count": 95,
      "outputs": [
        {
          "output_type": "stream",
          "name": "stdout",
          "text": [
            "Number of different products: 53\n"
          ]
        }
      ]
    },
    {
      "cell_type": "code",
      "source": [
        "#samar nashaat\n",
        "stats = df_data[\"total\"].describe()\n",
        "diff_mean_median = stats[\"mean\"] - stats[\"50%\"]\n",
        "print(\"Mean - Median of total:\", diff_mean_median)\n"
      ],
      "metadata": {
        "colab": {
          "base_uri": "https://localhost:8080/"
        },
        "id": "Rcr4DELh7MOm",
        "outputId": "fe95b3ae-26a6-4dfc-d147-01a1a8dbecf3"
      },
      "execution_count": 96,
      "outputs": [
        {
          "output_type": "stream",
          "name": "stdout",
          "text": [
            "Mean - Median of total: 0.9318078781127839\n"
          ]
        }
      ]
    },
    {
      "cell_type": "code",
      "source": [
        "#samar nashaat\n",
        "df_data = df_data.drop(columns=[\"total\"])\n",
        "print(df_data.head())\n"
      ],
      "metadata": {
        "colab": {
          "base_uri": "https://localhost:8080/"
        },
        "id": "TmgLqepQ7Sg4",
        "outputId": "bed4dc39-1c9f-484a-ac02-0d204abbb1e0"
      },
      "execution_count": 97,
      "outputs": [
        {
          "output_type": "stream",
          "name": "stdout",
          "text": [
            "   invoice_number     invoice_time store_id  product_id  category_id  \\\n",
            "0    2.020000e+11  7/15/2015 10:45     G816     7000300       210101   \n",
            "1    2.020000e+11  7/15/2015 12:16     G816     7070884        70203   \n",
            "2    2.020000e+11  7/15/2015 12:16     G816     7070884        70203   \n",
            "3    2.020000e+11  7/15/2015 12:16     G816     7070891        70401   \n",
            "4    2.020000e+11  7/15/2015 12:16     G816     7090363        70401   \n",
            "\n",
            "   num_item  price  \n",
            "0       1.0    2.0  \n",
            "1       1.0    2.0  \n",
            "2       1.0    2.0  \n",
            "3       1.0    6.0  \n",
            "4       1.0    6.0  \n"
          ]
        }
      ]
    },
    {
      "cell_type": "code",
      "source": [
        "# from Taqwa\n",
        "import pandas as pd\n",
        "# Read the Titanic dataset\n",
        "df_titanic = pd.read_csv(\"Titanic.csv\")"
      ],
      "metadata": {
        "id": "dFpBi80H2vyX"
      },
      "execution_count": 100,
      "outputs": []
    },
    {
      "cell_type": "code",
      "source": [
        "#from taqwa\n",
        "df_titanic = df_titanic.rename(columns={\n",
        "\"Name\" : \"Passenger_Name\" ,\n",
        "\"Ticket\" : \"Ticket_Num\",\n",
        "})\n",
        "print( df_titanic.head() )"
      ],
      "metadata": {
        "id": "wdJWypFA3JmJ",
        "outputId": "0a1da0cf-7445-4a9e-c222-4de3caf1c0f6",
        "colab": {
          "base_uri": "https://localhost:8080/"
        }
      },
      "execution_count": 102,
      "outputs": [
        {
          "output_type": "stream",
          "name": "stdout",
          "text": [
            "   PassengerId  Pclass                                Passenger_Name     Sex  \\\n",
            "0          892       3                              Kelly, Mr. James    male   \n",
            "1          893       3              Wilkes, Mrs. James (Ellen Needs)  female   \n",
            "2          894       2                     Myles, Mr. Thomas Francis    male   \n",
            "3          895       3                              Wirz, Mr. Albert    male   \n",
            "4          896       3  Hirvonen, Mrs. Alexander (Helga E Lindqvist)  female   \n",
            "\n",
            "    Age  SibSp  Parch Ticket_Num     Fare Cabin Embarked  \n",
            "0  34.5      0      0     330911   7.8292   NaN        Q  \n",
            "1  47.0      1      0     363272   7.0000   NaN        S  \n",
            "2  62.0      0      0     240276   9.6875   NaN        Q  \n",
            "3  27.0      0      0     315154   8.6625   NaN        S  \n",
            "4  22.0      1      1    3101298  12.2875   NaN        S  \n"
          ]
        }
      ]
    },
    {
      "cell_type": "code",
      "source": [
        "# from taqwa\n",
        "df_titanic = df_titanic.set_index(\"PassengerId\")\n",
        "print(df_titanic.head())"
      ],
      "metadata": {
        "id": "azVcPBr_3W6m",
        "outputId": "ab56712b-3281-4fb6-f8d7-66661de7f23c",
        "colab": {
          "base_uri": "https://localhost:8080/"
        }
      },
      "execution_count": 103,
      "outputs": [
        {
          "output_type": "stream",
          "name": "stdout",
          "text": [
            "             Pclass                                Passenger_Name     Sex  \\\n",
            "PassengerId                                                                 \n",
            "892               3                              Kelly, Mr. James    male   \n",
            "893               3              Wilkes, Mrs. James (Ellen Needs)  female   \n",
            "894               2                     Myles, Mr. Thomas Francis    male   \n",
            "895               3                              Wirz, Mr. Albert    male   \n",
            "896               3  Hirvonen, Mrs. Alexander (Helga E Lindqvist)  female   \n",
            "\n",
            "              Age  SibSp  Parch Ticket_Num     Fare Cabin Embarked  \n",
            "PassengerId                                                         \n",
            "892          34.5      0      0     330911   7.8292   NaN        Q  \n",
            "893          47.0      1      0     363272   7.0000   NaN        S  \n",
            "894          62.0      0      0     240276   9.6875   NaN        Q  \n",
            "895          27.0      0      0     315154   8.6625   NaN        S  \n",
            "896          22.0      1      1    3101298  12.2875   NaN        S  \n"
          ]
        }
      ]
    },
    {
      "cell_type": "code",
      "source": [
        "# from taqwa\n",
        "passenger_name = df_titanic.loc[896,\"Passenger_Name\"]\n",
        "print(passenger_name)"
      ],
      "metadata": {
        "id": "TE3CGlI_3g-7",
        "outputId": "066e6728-c4d9-4123-c66d-82af748e9653",
        "colab": {
          "base_uri": "https://localhost:8080/"
        }
      },
      "execution_count": 104,
      "outputs": [
        {
          "output_type": "stream",
          "name": "stdout",
          "text": [
            "Hirvonen, Mrs. Alexander (Helga E Lindqvist)\n"
          ]
        }
      ]
    }
  ]
}