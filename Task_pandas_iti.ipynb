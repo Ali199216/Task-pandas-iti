{
  "nbformat": 4,
  "nbformat_minor": 0,
  "metadata": {
    "colab": {
      "provenance": [],
      "include_colab_link": true
    },
    "kernelspec": {
      "name": "python3",
      "display_name": "Python 3"
    },
    "language_info": {
      "name": "python"
    }
  },
  "cells": [
    {
      "cell_type": "markdown",
      "metadata": {
        "id": "view-in-github",
        "colab_type": "text"
      },
      "source": [
        "<a href=\"https://colab.research.google.com/github/Ali199216/Task-pandas-iti/blob/main/Task_pandas_iti.ipynb\" target=\"_parent\"><img src=\"https://colab.research.google.com/assets/colab-badge.svg\" alt=\"Open In Colab\"/></a>"
      ]
    },
    {
      "cell_type": "code",
      "execution_count": null,
      "metadata": {
        "colab": {
          "base_uri": "https://localhost:8080/"
        },
        "id": "dzjBhqG3nybE",
        "outputId": "89d662df-481e-433f-f5f3-24a97c6f0199"
      },
      "outputs": [
        {
          "output_type": "stream",
          "name": "stdout",
          "text": [
            "   OrderID CustomerID Product  Quantity  UnitPrice  Total        Date\n",
            "0     1001    CUST009  Laptop         3        539   1617  2023-06-15\n",
            "1     1002    CUST007   Phone         1       1530   1530  2023-01-08\n",
            "2     1003    CUST006  Tablet         5       1225   6125  2023-07-09\n",
            "3     1004    CUST011  Laptop         1       1557   1557  2023-04-12\n",
            "4     1005    CUST003  Tablet         5        783   3915  2023-02-09\n"
          ]
        }
      ],
      "source": [
        "# Ali Sayed Mahmoud\n",
        "import pandas as pd\n",
        "df_data = pd.read_csv('/content/Purchase_Data.csv')\n",
        "print(df_data.head())"
      ]
    },
    {
      "cell_type": "code",
      "source": [
        "# Ali Sayed Mahmoud\n",
        "import pandas as pd\n",
        "df_data = pd.read_csv('Purchase_Data.csv')\n",
        "print(df_data.dtypes)"
      ],
      "metadata": {
        "colab": {
          "base_uri": "https://localhost:8080/"
        },
        "id": "jjB5oeubqTGH",
        "outputId": "8d45fcbf-2ccf-45e9-ada7-16e48eb61d3c"
      },
      "execution_count": null,
      "outputs": [
        {
          "output_type": "stream",
          "name": "stdout",
          "text": [
            "OrderID        int64\n",
            "CustomerID    object\n",
            "Product       object\n",
            "Quantity       int64\n",
            "UnitPrice      int64\n",
            "Total          int64\n",
            "Date          object\n",
            "dtype: object\n"
          ]
        }
      ]
    },
    {
      "cell_type": "code",
      "source": [
        "# Ali Sayed Mahmoud\n",
        "import pandas as pd\n",
        "df_data = pd.read_csv('Purchase_Data.csv')\n",
        "result_1 = df_data.loc[:, df_data.columns[:2]]\n",
        "print(result_1.head())"
      ],
      "metadata": {
        "colab": {
          "base_uri": "https://localhost:8080/"
        },
        "id": "6oTF3cRwqkWW",
        "outputId": "cb5e9050-ff12-445c-f518-8edae707ec04"
      },
      "execution_count": null,
      "outputs": [
        {
          "output_type": "stream",
          "name": "stdout",
          "text": [
            "   OrderID CustomerID\n",
            "0     1001    CUST009\n",
            "1     1002    CUST007\n",
            "2     1003    CUST006\n",
            "3     1004    CUST011\n",
            "4     1005    CUST003\n"
          ]
        }
      ]
    },
    {
      "cell_type": "code",
      "source": [
        "# Ali Sayed Mahmoud\n",
        "import pandas as pd\n",
        "df_data = pd.read_csv('Purchase_Data.csv')\n",
        "result_2 = df_data.loc[:1, :]\n",
        "print(result_2)"
      ],
      "metadata": {
        "colab": {
          "base_uri": "https://localhost:8080/"
        },
        "id": "MTyE8CaAqmTT",
        "outputId": "e449587f-5ef8-4d55-a4e2-55e07e0d9351"
      },
      "execution_count": null,
      "outputs": [
        {
          "output_type": "stream",
          "name": "stdout",
          "text": [
            "   OrderID CustomerID Product  Quantity  UnitPrice  Total        Date\n",
            "0     1001    CUST009  Laptop         3        539   1617  2023-06-15\n",
            "1     1002    CUST007   Phone         1       1530   1530  2023-01-08\n"
          ]
        }
      ]
    },
    {
      "cell_type": "code",
      "source": [
        "# Ali Sayed Mahmoud\n",
        "import pandas as pd\n",
        "df_data = pd.read_csv('Purchase_Data.csv')\n",
        "result_3 = df_data.loc[:3, df_data.columns[:5]]\n",
        "print(result_3)"
      ],
      "metadata": {
        "colab": {
          "base_uri": "https://localhost:8080/"
        },
        "id": "6PIDFGZWqnPn",
        "outputId": "b09e1a14-eef0-48bf-b5e7-de5125603eac"
      },
      "execution_count": null,
      "outputs": [
        {
          "output_type": "stream",
          "name": "stdout",
          "text": [
            "   OrderID CustomerID Product  Quantity  UnitPrice\n",
            "0     1001    CUST009  Laptop         3        539\n",
            "1     1002    CUST007   Phone         1       1530\n",
            "2     1003    CUST006  Tablet         5       1225\n",
            "3     1004    CUST011  Laptop         1       1557\n"
          ]
        }
      ]
    },
    {
      "cell_type": "code",
      "source": [
        "#nada mohammed\n",
        "result_4 = df_data.loc[[0, 4, 6], [\"Product\", \"Date\", \"Total\"]]\n",
        "print(result_4)"
      ],
      "metadata": {
        "colab": {
          "base_uri": "https://localhost:8080/"
        },
        "id": "IQug1jX-s0kC",
        "outputId": "70256892-4e69-4d48-d53f-30e4926003d6"
      },
      "execution_count": null,
      "outputs": [
        {
          "output_type": "stream",
          "name": "stdout",
          "text": [
            "      Product        Date  Total\n",
            "0      Laptop  2023-06-15   1617\n",
            "4      Tablet  2023-02-09   3915\n",
            "6  Headphones  2023-10-24   3088\n"
          ]
        }
      ]
    },
    {
      "cell_type": "code",
      "source": [
        "#nada mohammed\n",
        "num_rows = df_data.shape[0]"
      ],
      "metadata": {
        "id": "MWQTTy7ys0gf"
      },
      "execution_count": null,
      "outputs": []
    },
    {
      "cell_type": "code",
      "source": [
        "# nada mohammed\n",
        "last_row = df_data.loc[num_rows - 1]\n",
        "print(last_row)"
      ],
      "metadata": {
        "colab": {
          "base_uri": "https://localhost:8080/"
        },
        "id": "pv7yOe63s0eJ",
        "outputId": "56b8779a-02cf-4765-c6f5-bfe88b3f9045"
      },
      "execution_count": null,
      "outputs": [
        {
          "output_type": "stream",
          "name": "stdout",
          "text": [
            "OrderID             1050\n",
            "CustomerID       CUST009\n",
            "Product       Headphones\n",
            "Quantity               3\n",
            "UnitPrice           1761\n",
            "Total               5283\n",
            "Date          2023-12-14\n",
            "Name: 49, dtype: object\n"
          ]
        }
      ]
    },
    {
      "cell_type": "code",
      "source": [
        "# nada mohammed\n",
        "avg_price = df_data[\"UnitPrice\"].mean()\n",
        "max_price = df_data[\"UnitPrice\"].max()\n",
        "print(f'The average unit price is {avg_price} and the maximum unit price is {max_price}')"
      ],
      "metadata": {
        "colab": {
          "base_uri": "https://localhost:8080/"
        },
        "id": "O6JuQ7qts0bU",
        "outputId": "7ed772c7-4d9b-41d7-cc90-66cb1bd4193a"
      },
      "execution_count": null,
      "outputs": [
        {
          "output_type": "stream",
          "name": "stdout",
          "text": [
            "The average unit price is 1078.46 and the maximum unit price is 1972\n"
          ]
        }
      ]
    },
    {
      "cell_type": "code",
      "source": [
        "#nada mohammed\n",
        "avg_price, avg_num_items = df_data[[\"UnitPrice\", \"Quantity\"]].mean()\n",
        "print(f'The average unit price is {avg_price} and the average number of items is {avg_num_items}')"
      ],
      "metadata": {
        "colab": {
          "base_uri": "https://localhost:8080/"
        },
        "id": "JUPSPRkNs0Y0",
        "outputId": "29b05579-3ce1-4e33-b538-1da6af09b35a"
      },
      "execution_count": null,
      "outputs": [
        {
          "output_type": "stream",
          "name": "stdout",
          "text": [
            "The average unit price is 1078.46 and the average number of items is 2.92\n"
          ]
        }
      ]
    },
    {
      "cell_type": "code",
      "source": [
        "from google.colab import files\n",
        "\n",
        "uploaded = files.upload()\n"
      ],
      "metadata": {
        "colab": {
          "base_uri": "https://localhost:8080/",
          "height": 73
        },
        "id": "ocEEacw75-eK",
        "outputId": "04d7dba2-d99c-41c5-aba6-753d1bb64f0e"
      },
      "execution_count": 19,
      "outputs": [
        {
          "output_type": "display_data",
          "data": {
            "text/plain": [
              "<IPython.core.display.HTML object>"
            ],
            "text/html": [
              "\n",
              "     <input type=\"file\" id=\"files-cf11b12f-bad1-41a6-bb64-db0e57822f13\" name=\"files[]\" multiple disabled\n",
              "        style=\"border:none\" />\n",
              "     <output id=\"result-cf11b12f-bad1-41a6-bb64-db0e57822f13\">\n",
              "      Upload widget is only available when the cell has been executed in the\n",
              "      current browser session. Please rerun this cell to enable.\n",
              "      </output>\n",
              "      <script>// Copyright 2017 Google LLC\n",
              "//\n",
              "// Licensed under the Apache License, Version 2.0 (the \"License\");\n",
              "// you may not use this file except in compliance with the License.\n",
              "// You may obtain a copy of the License at\n",
              "//\n",
              "//      http://www.apache.org/licenses/LICENSE-2.0\n",
              "//\n",
              "// Unless required by applicable law or agreed to in writing, software\n",
              "// distributed under the License is distributed on an \"AS IS\" BASIS,\n",
              "// WITHOUT WARRANTIES OR CONDITIONS OF ANY KIND, either express or implied.\n",
              "// See the License for the specific language governing permissions and\n",
              "// limitations under the License.\n",
              "\n",
              "/**\n",
              " * @fileoverview Helpers for google.colab Python module.\n",
              " */\n",
              "(function(scope) {\n",
              "function span(text, styleAttributes = {}) {\n",
              "  const element = document.createElement('span');\n",
              "  element.textContent = text;\n",
              "  for (const key of Object.keys(styleAttributes)) {\n",
              "    element.style[key] = styleAttributes[key];\n",
              "  }\n",
              "  return element;\n",
              "}\n",
              "\n",
              "// Max number of bytes which will be uploaded at a time.\n",
              "const MAX_PAYLOAD_SIZE = 100 * 1024;\n",
              "\n",
              "function _uploadFiles(inputId, outputId) {\n",
              "  const steps = uploadFilesStep(inputId, outputId);\n",
              "  const outputElement = document.getElementById(outputId);\n",
              "  // Cache steps on the outputElement to make it available for the next call\n",
              "  // to uploadFilesContinue from Python.\n",
              "  outputElement.steps = steps;\n",
              "\n",
              "  return _uploadFilesContinue(outputId);\n",
              "}\n",
              "\n",
              "// This is roughly an async generator (not supported in the browser yet),\n",
              "// where there are multiple asynchronous steps and the Python side is going\n",
              "// to poll for completion of each step.\n",
              "// This uses a Promise to block the python side on completion of each step,\n",
              "// then passes the result of the previous step as the input to the next step.\n",
              "function _uploadFilesContinue(outputId) {\n",
              "  const outputElement = document.getElementById(outputId);\n",
              "  const steps = outputElement.steps;\n",
              "\n",
              "  const next = steps.next(outputElement.lastPromiseValue);\n",
              "  return Promise.resolve(next.value.promise).then((value) => {\n",
              "    // Cache the last promise value to make it available to the next\n",
              "    // step of the generator.\n",
              "    outputElement.lastPromiseValue = value;\n",
              "    return next.value.response;\n",
              "  });\n",
              "}\n",
              "\n",
              "/**\n",
              " * Generator function which is called between each async step of the upload\n",
              " * process.\n",
              " * @param {string} inputId Element ID of the input file picker element.\n",
              " * @param {string} outputId Element ID of the output display.\n",
              " * @return {!Iterable<!Object>} Iterable of next steps.\n",
              " */\n",
              "function* uploadFilesStep(inputId, outputId) {\n",
              "  const inputElement = document.getElementById(inputId);\n",
              "  inputElement.disabled = false;\n",
              "\n",
              "  const outputElement = document.getElementById(outputId);\n",
              "  outputElement.innerHTML = '';\n",
              "\n",
              "  const pickedPromise = new Promise((resolve) => {\n",
              "    inputElement.addEventListener('change', (e) => {\n",
              "      resolve(e.target.files);\n",
              "    });\n",
              "  });\n",
              "\n",
              "  const cancel = document.createElement('button');\n",
              "  inputElement.parentElement.appendChild(cancel);\n",
              "  cancel.textContent = 'Cancel upload';\n",
              "  const cancelPromise = new Promise((resolve) => {\n",
              "    cancel.onclick = () => {\n",
              "      resolve(null);\n",
              "    };\n",
              "  });\n",
              "\n",
              "  // Wait for the user to pick the files.\n",
              "  const files = yield {\n",
              "    promise: Promise.race([pickedPromise, cancelPromise]),\n",
              "    response: {\n",
              "      action: 'starting',\n",
              "    }\n",
              "  };\n",
              "\n",
              "  cancel.remove();\n",
              "\n",
              "  // Disable the input element since further picks are not allowed.\n",
              "  inputElement.disabled = true;\n",
              "\n",
              "  if (!files) {\n",
              "    return {\n",
              "      response: {\n",
              "        action: 'complete',\n",
              "      }\n",
              "    };\n",
              "  }\n",
              "\n",
              "  for (const file of files) {\n",
              "    const li = document.createElement('li');\n",
              "    li.append(span(file.name, {fontWeight: 'bold'}));\n",
              "    li.append(span(\n",
              "        `(${file.type || 'n/a'}) - ${file.size} bytes, ` +\n",
              "        `last modified: ${\n",
              "            file.lastModifiedDate ? file.lastModifiedDate.toLocaleDateString() :\n",
              "                                    'n/a'} - `));\n",
              "    const percent = span('0% done');\n",
              "    li.appendChild(percent);\n",
              "\n",
              "    outputElement.appendChild(li);\n",
              "\n",
              "    const fileDataPromise = new Promise((resolve) => {\n",
              "      const reader = new FileReader();\n",
              "      reader.onload = (e) => {\n",
              "        resolve(e.target.result);\n",
              "      };\n",
              "      reader.readAsArrayBuffer(file);\n",
              "    });\n",
              "    // Wait for the data to be ready.\n",
              "    let fileData = yield {\n",
              "      promise: fileDataPromise,\n",
              "      response: {\n",
              "        action: 'continue',\n",
              "      }\n",
              "    };\n",
              "\n",
              "    // Use a chunked sending to avoid message size limits. See b/62115660.\n",
              "    let position = 0;\n",
              "    do {\n",
              "      const length = Math.min(fileData.byteLength - position, MAX_PAYLOAD_SIZE);\n",
              "      const chunk = new Uint8Array(fileData, position, length);\n",
              "      position += length;\n",
              "\n",
              "      const base64 = btoa(String.fromCharCode.apply(null, chunk));\n",
              "      yield {\n",
              "        response: {\n",
              "          action: 'append',\n",
              "          file: file.name,\n",
              "          data: base64,\n",
              "        },\n",
              "      };\n",
              "\n",
              "      let percentDone = fileData.byteLength === 0 ?\n",
              "          100 :\n",
              "          Math.round((position / fileData.byteLength) * 100);\n",
              "      percent.textContent = `${percentDone}% done`;\n",
              "\n",
              "    } while (position < fileData.byteLength);\n",
              "  }\n",
              "\n",
              "  // All done.\n",
              "  yield {\n",
              "    response: {\n",
              "      action: 'complete',\n",
              "    }\n",
              "  };\n",
              "}\n",
              "\n",
              "scope.google = scope.google || {};\n",
              "scope.google.colab = scope.google.colab || {};\n",
              "scope.google.colab._files = {\n",
              "  _uploadFiles,\n",
              "  _uploadFilesContinue,\n",
              "};\n",
              "})(self);\n",
              "</script> "
            ]
          },
          "metadata": {}
        },
        {
          "output_type": "stream",
          "name": "stdout",
          "text": [
            "Saving Purchase_Data.csv to Purchase_Data (1).csv\n"
          ]
        }
      ]
    },
    {
      "cell_type": "code",
      "source": [
        "\n",
        "import pandas as pd\n",
        "\n",
        "df_data = pd.read_csv(\"Purchase_Data.csv\")\n",
        "print(df_data.head())\n"
      ],
      "metadata": {
        "colab": {
          "base_uri": "https://localhost:8080/"
        },
        "id": "IR214FpB6ClH",
        "outputId": "b46e4829-3cc4-4c76-b6da-4866cf3d1e33"
      },
      "execution_count": 21,
      "outputs": [
        {
          "output_type": "stream",
          "name": "stdout",
          "text": [
            "   OrderID CustomerID Product  Quantity  UnitPrice  Total        Date\n",
            "0     1001    CUST009  Laptop         3        539   1617  2023-06-15\n",
            "1     1002    CUST007   Phone         1       1530   1530  2023-01-08\n",
            "2     1003    CUST006  Tablet         5       1225   6125  2023-07-09\n",
            "3     1004    CUST011  Laptop         1       1557   1557  2023-04-12\n",
            "4     1005    CUST003  Tablet         5        783   3915  2023-02-09\n"
          ]
        }
      ]
    },
    {
      "cell_type": "code",
      "source": [
        "#samar nashaat\n",
        "df_data[\"total\"] = df_data[\"UnitPrice\"] * df_data[\"Quantity\"]\n",
        "print(df_data.head())"
      ],
      "metadata": {
        "colab": {
          "base_uri": "https://localhost:8080/"
        },
        "id": "EHSz3Fyx63Ei",
        "outputId": "cd33d7fa-aa3d-4e1c-f32e-4c193e1b1a44"
      },
      "execution_count": 32,
      "outputs": [
        {
          "output_type": "stream",
          "name": "stdout",
          "text": [
            "   OrderID CustomerID Product  Quantity  UnitPrice  Total        Date  total\n",
            "0     1001    CUST009  Laptop         3        539   1617  2023-06-15   1617\n",
            "1     1002    CUST007   Phone         1       1530   1530  2023-01-08   1530\n",
            "2     1003    CUST006  Tablet         5       1225   6125  2023-07-09   6125\n",
            "3     1004    CUST011  Laptop         1       1557   1557  2023-04-12   1557\n",
            "4     1005    CUST003  Tablet         5        783   3915  2023-02-09   3915\n"
          ]
        }
      ]
    },
    {
      "cell_type": "code",
      "source": [
        "#samar nashaat\n",
        "avg_top3_price = df_data.nlargest(3, \"total\")[\"total\"].mean()\n",
        "print(\"Average price of top 3 expensive purchases:\", avg_top3_price)"
      ],
      "metadata": {
        "colab": {
          "base_uri": "https://localhost:8080/"
        },
        "id": "sy0iglRX67qD",
        "outputId": "513e0bec-8e4c-4f12-9039-bda3e5e6dc9e"
      },
      "execution_count": 34,
      "outputs": [
        {
          "output_type": "stream",
          "name": "stdout",
          "text": [
            "Average price of top 3 expensive purchases: 7752.0\n"
          ]
        }
      ]
    },
    {
      "cell_type": "code",
      "source": [
        "#samar nashaat\n",
        "num_products = df_data[\"Product\"].nunique()\n",
        "print(\"Number of different products:\", num_products)"
      ],
      "metadata": {
        "colab": {
          "base_uri": "https://localhost:8080/"
        },
        "id": "JpZ8qrvS6-3A",
        "outputId": "a5b43c8b-62bd-4db1-b67b-12ec4003febe"
      },
      "execution_count": 36,
      "outputs": [
        {
          "output_type": "stream",
          "name": "stdout",
          "text": [
            "Number of different products: 6\n"
          ]
        }
      ]
    },
    {
      "cell_type": "code",
      "source": [
        "#samar nashaat\n",
        "stats = df_data[\"total\"].describe()\n",
        "diff_mean_median = stats[\"mean\"] - stats[\"50%\"]\n",
        "print(\"Mean - Median of total:\", diff_mean_median)\n"
      ],
      "metadata": {
        "colab": {
          "base_uri": "https://localhost:8080/"
        },
        "id": "Rcr4DELh7MOm",
        "outputId": "78b6f839-69de-4285-b690-cb7d5668e5ff"
      },
      "execution_count": 37,
      "outputs": [
        {
          "output_type": "stream",
          "name": "stdout",
          "text": [
            "Mean - Median of total: 256.6399999999999\n"
          ]
        }
      ]
    },
    {
      "cell_type": "code",
      "source": [
        "#samar nashaat\n",
        "df_data = df_data.drop(columns=[\"total\"])\n",
        "print(df_data.head())\n"
      ],
      "metadata": {
        "colab": {
          "base_uri": "https://localhost:8080/"
        },
        "id": "TmgLqepQ7Sg4",
        "outputId": "141f3075-aa30-4fc9-b805-0aa20527afb6"
      },
      "execution_count": 38,
      "outputs": [
        {
          "output_type": "stream",
          "name": "stdout",
          "text": [
            "   OrderID CustomerID Product  Quantity  UnitPrice  Total        Date\n",
            "0     1001    CUST009  Laptop         3        539   1617  2023-06-15\n",
            "1     1002    CUST007   Phone         1       1530   1530  2023-01-08\n",
            "2     1003    CUST006  Tablet         5       1225   6125  2023-07-09\n",
            "3     1004    CUST011  Laptop         1       1557   1557  2023-04-12\n",
            "4     1005    CUST003  Tablet         5        783   3915  2023-02-09\n"
          ]
        }
      ]
    }
  ]
}